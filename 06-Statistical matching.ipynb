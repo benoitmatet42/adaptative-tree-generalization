{
 "cells": [
  {
   "cell_type": "markdown",
   "id": "89fdaf7a",
   "metadata": {},
   "source": [
    "<a id='summary'></a>\n",
    "# Statistical matching\n",
    "* Process taken from Horl2020\n",
    "* matching attributes in Horl2020:\n",
    "    * **age**\n",
    "    * **gender**\n",
    "    * **CS8**\n",
    "    * **any car**\n",
    "    * **income** (available for egt paris but not for egt lyon)\n",
    "    * **departement**  (in our case, it's almost only 69 so no real point)\n",
    "* minimum number of source observations : M=20\n",
    "* Horl2020 adds income to census with filosofi, but for lyon income is not in egt, so we won't be able to join on it anyway.\n",
    "\n",
    "* For each census row, we find the greatest N such that joining the census row with egt on the N _first_ matching attributes gives at least M matching egt rows. \n",
    "* Then, we select a row among the matching egt rows, weighted by their egt scaling weight (given by INSEE).\n",
    "\n",
    "## Summary\n",
    "* [Loading census](#census)\n",
    "* [Loading EGT](#egt)\n",
    "* [Statistical matching](#matching)\n",
    "    * [Setting profiles for census](#profiles_census)\n",
    "    * [Setting profiles for egt](#profiles_egt)\n",
    "    * [Drawing egt rows for census](#draw)\n",
    "* [Cleaning and exporting](#export)\n"
   ]
  },
  {
   "cell_type": "code",
   "execution_count": 1,
   "id": "d08b20b8",
   "metadata": {},
   "outputs": [],
   "source": [
    "import datetime\n",
    "import pandas as pd\n",
    "from tqdm import tqdm\n",
    "import numpy as np\n",
    "import json\n",
    "import os\n",
    "\n",
    "from utils.chrono import Chrono\n",
    "\n",
    "with open('config.json', 'r') as config_path:\n",
    "    config = json.load(config_path)"
   ]
  },
  {
   "cell_type": "markdown",
   "id": "b67755f0",
   "metadata": {},
   "source": [
    "<a id='census'></a>\n",
    "# Loading census\n",
    "* [back to summary](#summary)"
   ]
  },
  {
   "cell_type": "code",
   "execution_count": 2,
   "id": "efbe0a31",
   "metadata": {},
   "outputs": [
    {
     "name": "stdout",
     "output_type": "stream",
     "text": [
      "1325654 persons in census\n"
     ]
    },
    {
     "data": {
      "text/html": [
       "<div>\n",
       "<style scoped>\n",
       "    .dataframe tbody tr th:only-of-type {\n",
       "        vertical-align: middle;\n",
       "    }\n",
       "\n",
       "    .dataframe tbody tr th {\n",
       "        vertical-align: top;\n",
       "    }\n",
       "\n",
       "    .dataframe thead th {\n",
       "        text-align: right;\n",
       "    }\n",
       "</style>\n",
       "<table border=\"1\" class=\"dataframe\">\n",
       "  <thead>\n",
       "    <tr style=\"text-align: right;\">\n",
       "      <th></th>\n",
       "      <th>iris_or_commune</th>\n",
       "      <th>gender</th>\n",
       "      <th>has_car</th>\n",
       "      <th>occupation</th>\n",
       "      <th>age</th>\n",
       "      <th>home_status</th>\n",
       "      <th>main_transport_work</th>\n",
       "    </tr>\n",
       "  </thead>\n",
       "  <tbody>\n",
       "    <tr>\n",
       "      <th>0</th>\n",
       "      <td>690270102</td>\n",
       "      <td>0</td>\n",
       "      <td>1</td>\n",
       "      <td>8</td>\n",
       "      <td>3</td>\n",
       "      <td>0</td>\n",
       "      <td>-1</td>\n",
       "    </tr>\n",
       "    <tr>\n",
       "      <th>1</th>\n",
       "      <td>690270102</td>\n",
       "      <td>0</td>\n",
       "      <td>1</td>\n",
       "      <td>8</td>\n",
       "      <td>3</td>\n",
       "      <td>0</td>\n",
       "      <td>-1</td>\n",
       "    </tr>\n",
       "    <tr>\n",
       "      <th>2</th>\n",
       "      <td>690270102</td>\n",
       "      <td>0</td>\n",
       "      <td>1</td>\n",
       "      <td>8</td>\n",
       "      <td>3</td>\n",
       "      <td>0</td>\n",
       "      <td>-1</td>\n",
       "    </tr>\n",
       "    <tr>\n",
       "      <th>3</th>\n",
       "      <td>690270102</td>\n",
       "      <td>1</td>\n",
       "      <td>1</td>\n",
       "      <td>8</td>\n",
       "      <td>3</td>\n",
       "      <td>0</td>\n",
       "      <td>-1</td>\n",
       "    </tr>\n",
       "    <tr>\n",
       "      <th>4</th>\n",
       "      <td>690270102</td>\n",
       "      <td>1</td>\n",
       "      <td>1</td>\n",
       "      <td>8</td>\n",
       "      <td>3</td>\n",
       "      <td>0</td>\n",
       "      <td>-1</td>\n",
       "    </tr>\n",
       "  </tbody>\n",
       "</table>\n",
       "</div>"
      ],
      "text/plain": [
       "  iris_or_commune  gender  has_car  occupation  age  home_status   \n",
       "0       690270102       0        1           8    3            0  \\\n",
       "1       690270102       0        1           8    3            0   \n",
       "2       690270102       0        1           8    3            0   \n",
       "3       690270102       1        1           8    3            0   \n",
       "4       690270102       1        1           8    3            0   \n",
       "\n",
       "   main_transport_work  \n",
       "0                   -1  \n",
       "1                   -1  \n",
       "2                   -1  \n",
       "3                   -1  \n",
       "4                   -1  "
      ]
     },
     "execution_count": 2,
     "metadata": {},
     "output_type": "execute_result"
    }
   ],
   "source": [
    "census_path = os.path.join(config['outdata_dir']['path'], config['outdata_dir']['synthpop_filename'])\n",
    "census = pd.read_csv(census_path, dtype={'iris_or_commune':str})\n",
    "print('{} persons in census'.format(len(census)))\n",
    "census.head()"
   ]
  },
  {
   "cell_type": "markdown",
   "id": "d091bab6",
   "metadata": {},
   "source": [
    "## Setting `canton` and `commune`"
   ]
  },
  {
   "cell_type": "code",
   "execution_count": 3,
   "id": "6acdd6c6",
   "metadata": {},
   "outputs": [],
   "source": [
    "cantville_commune = pd.read_excel('/Users/benoit/Desktop/Pro/210526-fusion/data/cantville_commune_2015/table-appartenance-geo-communes-15.xls',\n",
    "                                 skiprows=5)\n",
    "cantville_commune = cantville_commune.rename(columns={'CV':'canton'})\n",
    "cantville_commune = cantville_commune[cantville_commune['CODGEO'].str[:2].isin(['69', '01', '38'])]\n",
    "\n",
    "arr_lyon = ['{:.0f}'.format(69380+i) for i in range(1, 10)]\n",
    "lyon = pd.DataFrame({'CODGEO':arr_lyon, 'canton':'69123'})\n",
    "cantville_commune = pd.concat([cantville_commune, lyon], ignore_index=True)\n",
    "\n",
    "\n",
    "census['commune'] = census['iris_or_commune'].str[:5]\n",
    "census = census.merge(cantville_commune[['CODGEO','canton']], left_on='commune', right_on='CODGEO', how='left')\n"
   ]
  },
  {
   "cell_type": "markdown",
   "id": "b378174e",
   "metadata": {},
   "source": [
    "<a id='egt'></a>\n",
    "# Loading EGT\n",
    "* [back to summary](#summary)"
   ]
  },
  {
   "cell_type": "code",
   "execution_count": 4,
   "id": "4c3463a9",
   "metadata": {},
   "outputs": [
    {
     "name": "stdout",
     "output_type": "stream",
     "text": [
      "18572 persons in egt\n",
      "16941 persons in egt with an activity chain\n"
     ]
    },
    {
     "data": {
      "text/html": [
       "<div>\n",
       "<style scoped>\n",
       "    .dataframe tbody tr th:only-of-type {\n",
       "        vertical-align: middle;\n",
       "    }\n",
       "\n",
       "    .dataframe tbody tr th {\n",
       "        vertical-align: top;\n",
       "    }\n",
       "\n",
       "    .dataframe thead th {\n",
       "        text-align: right;\n",
       "    }\n",
       "</style>\n",
       "<table border=\"1\" class=\"dataframe\">\n",
       "  <thead>\n",
       "    <tr style=\"text-align: right;\">\n",
       "      <th></th>\n",
       "      <th>id_per</th>\n",
       "      <th>dep_0_motif</th>\n",
       "      <th>dep_0_zone</th>\n",
       "      <th>outsider</th>\n",
       "      <th>chain_len</th>\n",
       "      <th>zf_home</th>\n",
       "      <th>scaling_factor_person</th>\n",
       "      <th>dep_1_mode</th>\n",
       "      <th>dep_1_motif</th>\n",
       "      <th>dep_1_time</th>\n",
       "      <th>...</th>\n",
       "      <th>dep_10_motif</th>\n",
       "      <th>dep_10_time</th>\n",
       "      <th>dep_10_l2</th>\n",
       "      <th>dep_10_zone</th>\n",
       "      <th>dep_10_arrival_time</th>\n",
       "      <th>autonomy</th>\n",
       "      <th>work_tm_in_agenda</th>\n",
       "      <th>work_in_agenda</th>\n",
       "      <th>study_in_agenda</th>\n",
       "      <th>need_commute</th>\n",
       "    </tr>\n",
       "  </thead>\n",
       "  <tbody>\n",
       "    <tr>\n",
       "      <th>0</th>\n",
       "      <td>1.010011e+09</td>\n",
       "      <td>0.0</td>\n",
       "      <td>101001.0</td>\n",
       "      <td>0.0</td>\n",
       "      <td>2.0</td>\n",
       "      <td>101001.0</td>\n",
       "      <td>54.14797</td>\n",
       "      <td>3.0</td>\n",
       "      <td>2.0</td>\n",
       "      <td>7.0</td>\n",
       "      <td>...</td>\n",
       "      <td>NaN</td>\n",
       "      <td>NaN</td>\n",
       "      <td>NaN</td>\n",
       "      <td>NaN</td>\n",
       "      <td>NaN</td>\n",
       "      <td>1.0</td>\n",
       "      <td>NaN</td>\n",
       "      <td>False</td>\n",
       "      <td>True</td>\n",
       "      <td>True</td>\n",
       "    </tr>\n",
       "    <tr>\n",
       "      <th>1</th>\n",
       "      <td>1.010018e+08</td>\n",
       "      <td>0.0</td>\n",
       "      <td>101001.0</td>\n",
       "      <td>0.0</td>\n",
       "      <td>2.0</td>\n",
       "      <td>101001.0</td>\n",
       "      <td>29.75996</td>\n",
       "      <td>3.0</td>\n",
       "      <td>4.0</td>\n",
       "      <td>10.0</td>\n",
       "      <td>...</td>\n",
       "      <td>NaN</td>\n",
       "      <td>NaN</td>\n",
       "      <td>NaN</td>\n",
       "      <td>NaN</td>\n",
       "      <td>NaN</td>\n",
       "      <td>1.0</td>\n",
       "      <td>NaN</td>\n",
       "      <td>False</td>\n",
       "      <td>False</td>\n",
       "      <td>False</td>\n",
       "    </tr>\n",
       "    <tr>\n",
       "      <th>2</th>\n",
       "      <td>1.010018e+08</td>\n",
       "      <td>0.0</td>\n",
       "      <td>101001.0</td>\n",
       "      <td>0.0</td>\n",
       "      <td>2.0</td>\n",
       "      <td>101001.0</td>\n",
       "      <td>51.85581</td>\n",
       "      <td>3.0</td>\n",
       "      <td>1.0</td>\n",
       "      <td>8.0</td>\n",
       "      <td>...</td>\n",
       "      <td>NaN</td>\n",
       "      <td>NaN</td>\n",
       "      <td>NaN</td>\n",
       "      <td>NaN</td>\n",
       "      <td>NaN</td>\n",
       "      <td>1.0</td>\n",
       "      <td>3.0</td>\n",
       "      <td>True</td>\n",
       "      <td>False</td>\n",
       "      <td>True</td>\n",
       "    </tr>\n",
       "    <tr>\n",
       "      <th>3</th>\n",
       "      <td>1.010018e+08</td>\n",
       "      <td>0.0</td>\n",
       "      <td>101001.0</td>\n",
       "      <td>0.0</td>\n",
       "      <td>2.0</td>\n",
       "      <td>101001.0</td>\n",
       "      <td>53.59816</td>\n",
       "      <td>3.0</td>\n",
       "      <td>2.0</td>\n",
       "      <td>7.0</td>\n",
       "      <td>...</td>\n",
       "      <td>NaN</td>\n",
       "      <td>NaN</td>\n",
       "      <td>NaN</td>\n",
       "      <td>NaN</td>\n",
       "      <td>NaN</td>\n",
       "      <td>1.0</td>\n",
       "      <td>NaN</td>\n",
       "      <td>False</td>\n",
       "      <td>True</td>\n",
       "      <td>True</td>\n",
       "    </tr>\n",
       "    <tr>\n",
       "      <th>4</th>\n",
       "      <td>1.010021e+09</td>\n",
       "      <td>0.0</td>\n",
       "      <td>101002.0</td>\n",
       "      <td>0.0</td>\n",
       "      <td>4.0</td>\n",
       "      <td>101002.0</td>\n",
       "      <td>50.09030</td>\n",
       "      <td>3.0</td>\n",
       "      <td>3.0</td>\n",
       "      <td>10.0</td>\n",
       "      <td>...</td>\n",
       "      <td>NaN</td>\n",
       "      <td>NaN</td>\n",
       "      <td>NaN</td>\n",
       "      <td>NaN</td>\n",
       "      <td>NaN</td>\n",
       "      <td>1.0</td>\n",
       "      <td>NaN</td>\n",
       "      <td>False</td>\n",
       "      <td>False</td>\n",
       "      <td>False</td>\n",
       "    </tr>\n",
       "  </tbody>\n",
       "</table>\n",
       "<p>5 rows × 72 columns</p>\n",
       "</div>"
      ],
      "text/plain": [
       "         id_per  dep_0_motif  dep_0_zone  outsider  chain_len   zf_home   \n",
       "0  1.010011e+09          0.0    101001.0       0.0        2.0  101001.0  \\\n",
       "1  1.010018e+08          0.0    101001.0       0.0        2.0  101001.0   \n",
       "2  1.010018e+08          0.0    101001.0       0.0        2.0  101001.0   \n",
       "3  1.010018e+08          0.0    101001.0       0.0        2.0  101001.0   \n",
       "4  1.010021e+09          0.0    101002.0       0.0        4.0  101002.0   \n",
       "\n",
       "   scaling_factor_person  dep_1_mode  dep_1_motif  dep_1_time  ...   \n",
       "0               54.14797         3.0          2.0         7.0  ...  \\\n",
       "1               29.75996         3.0          4.0        10.0  ...   \n",
       "2               51.85581         3.0          1.0         8.0  ...   \n",
       "3               53.59816         3.0          2.0         7.0  ...   \n",
       "4               50.09030         3.0          3.0        10.0  ...   \n",
       "\n",
       "   dep_10_motif  dep_10_time  dep_10_l2  dep_10_zone  dep_10_arrival_time   \n",
       "0           NaN          NaN        NaN          NaN                  NaN  \\\n",
       "1           NaN          NaN        NaN          NaN                  NaN   \n",
       "2           NaN          NaN        NaN          NaN                  NaN   \n",
       "3           NaN          NaN        NaN          NaN                  NaN   \n",
       "4           NaN          NaN        NaN          NaN                  NaN   \n",
       "\n",
       "   autonomy  work_tm_in_agenda  work_in_agenda  study_in_agenda  need_commute  \n",
       "0       1.0                NaN           False             True          True  \n",
       "1       1.0                NaN           False            False         False  \n",
       "2       1.0                3.0            True            False          True  \n",
       "3       1.0                NaN           False             True          True  \n",
       "4       1.0                NaN           False            False         False  \n",
       "\n",
       "[5 rows x 72 columns]"
      ]
     },
     "execution_count": 4,
     "metadata": {},
     "output_type": "execute_result"
    }
   ],
   "source": [
    "egt_path = os.path.join(config['outdata_dir']['path'], config['outdata_dir']['HTS_filtered_filename'])\n",
    "egt = pd.read_csv(egt_path, dtype={'zf_home':str})\n",
    "egt = egt.groupby(['id_per']).first().reset_index()\n",
    "print('{} persons in egt'.format(len(egt)))\n",
    "\n",
    "\n",
    "activity_chain_path = os.path.join(config['outdata_dir']['path'], config['outdata_dir']['activity_chains_filename'])\n",
    "activity_chains = pd.read_csv(activity_chain_path)\n",
    "egt = egt[egt['id_per'].isin(activity_chains['id_per'])]\n",
    "print('{} persons in egt with an activity chain'.format(len(egt)))\n",
    "activity_chains.head()"
   ]
  },
  {
   "cell_type": "markdown",
   "id": "aa35dab8",
   "metadata": {},
   "source": [
    "## Getting commune for each respondent of EGT\n",
    "* EGT is defined on Zones Fines (ZF), incompatible with iris but still a subpartition of communes.\n",
    "* Relying on the map of the \"zone fine\" we found to get the commune."
   ]
  },
  {
   "cell_type": "code",
   "execution_count": 5,
   "id": "ae631e56",
   "metadata": {},
   "outputs": [
    {
     "name": "stdout",
     "output_type": "stream",
     "text": [
      "16941 out of 16941 (100%) of egt respondant are outside of study area : commune set to None\n"
     ]
    }
   ],
   "source": [
    "import geopandas as gpd\n",
    "zf_path = os.path.join(config['outdata_dir']['path'], config['outdata_dir']['HTS_gis_filtered_filename'])\n",
    "zf = gpd.read_file(zf_path)\n",
    "zf['commune'] = zf['DComIris'].str[:5]\n",
    "zf['commune'] = zf['commune'].replace({'A':'69290'})  # cleaning one zf\n",
    "\n",
    "egt['zf_home'] = egt['zf_home'].str[2:]  # removing '00'\n",
    "egt = egt.drop(columns=['commune'])\n",
    "egt = egt.merge(zf[['ZF2015_Nouveau_codage', 'commune']], left_on='zf_home', right_on='ZF2015_Nouveau_codage', how='left')\n",
    "\n",
    "print('{} out of {} ({:.0f}%) of egt respondant are outside of study area : commune set to None'.format(\n",
    "    egt['commune'].isna().sum(), len(egt), 100*egt['commune'].isna().sum()/len(egt)))\n",
    "\n",
    "egt = egt.merge(cantville_commune[['CODGEO','canton']], left_on='commune', right_on='CODGEO', how='left')"
   ]
  },
  {
   "cell_type": "markdown",
   "id": "142be35f",
   "metadata": {},
   "source": [
    "<a id='matching'></a>\n",
    "# Statistical matching\n",
    "* [back to summary](#summary)"
   ]
  },
  {
   "cell_type": "code",
   "execution_count": 6,
   "id": "0703bd56",
   "metadata": {},
   "outputs": [],
   "source": [
    "# seuil de volume M\n",
    "vol_thres = 20\n",
    "matching_order = ['age', 'gender', 'occupation', 'has_car', 'home_status','canton' ]\n"
   ]
  },
  {
   "cell_type": "markdown",
   "id": "84e79bd7",
   "metadata": {},
   "source": [
    "<a id='profiles_census'></a>\n",
    "## Setting profiles for census rows\n",
    "* A profile consist in a number `imax` and a modality of the `imax` first variables in the `matching_order`. \n",
    "* Each census row is assigned a unique profile, with `imax` being the greatest `i` such that there are more than `vol_thres` EGT rows sharing the same values for the first `i` variables in the `matching_order`. \n",
    "* Note that an EGT row can be matched to different profiles, if there are profiles sharing the same first modalities but with a different `imax`.\n",
    "* [back to summary](#summary)"
   ]
  },
  {
   "cell_type": "code",
   "execution_count": 7,
   "id": "788c9989",
   "metadata": {},
   "outputs": [],
   "source": [
    "census_grouped = (census\n",
    "                  .groupby(matching_order)\n",
    "                  .size().reset_index()\n",
    "                  .rename(columns={0:'vol'}))\n",
    "\n",
    "egt_grouped = (egt\n",
    "               .groupby(matching_order)\n",
    "               .size().reset_index()\n",
    "               .rename(columns={0:'vol'}))"
   ]
  },
  {
   "cell_type": "code",
   "execution_count": 8,
   "id": "3329fdfe",
   "metadata": {},
   "outputs": [
    {
     "name": "stdout",
     "output_type": "stream",
     "text": [
      "census_grouped (1457 joint modalities):\n"
     ]
    },
    {
     "data": {
      "text/html": [
       "<div>\n",
       "<style scoped>\n",
       "    .dataframe tbody tr th:only-of-type {\n",
       "        vertical-align: middle;\n",
       "    }\n",
       "\n",
       "    .dataframe tbody tr th {\n",
       "        vertical-align: top;\n",
       "    }\n",
       "\n",
       "    .dataframe thead th {\n",
       "        text-align: right;\n",
       "    }\n",
       "</style>\n",
       "<table border=\"1\" class=\"dataframe\">\n",
       "  <thead>\n",
       "    <tr style=\"text-align: right;\">\n",
       "      <th></th>\n",
       "      <th>age</th>\n",
       "      <th>gender</th>\n",
       "      <th>occupation</th>\n",
       "      <th>has_car</th>\n",
       "      <th>home_status</th>\n",
       "      <th>canton</th>\n",
       "      <th>vol</th>\n",
       "    </tr>\n",
       "  </thead>\n",
       "  <tbody>\n",
       "    <tr>\n",
       "      <th>0</th>\n",
       "      <td>0</td>\n",
       "      <td>0</td>\n",
       "      <td>0</td>\n",
       "      <td>0</td>\n",
       "      <td>0</td>\n",
       "      <td>6906</td>\n",
       "      <td>3</td>\n",
       "    </tr>\n",
       "    <tr>\n",
       "      <th>1</th>\n",
       "      <td>0</td>\n",
       "      <td>0</td>\n",
       "      <td>0</td>\n",
       "      <td>0</td>\n",
       "      <td>0</td>\n",
       "      <td>69123</td>\n",
       "      <td>121</td>\n",
       "    </tr>\n",
       "    <tr>\n",
       "      <th>2</th>\n",
       "      <td>0</td>\n",
       "      <td>0</td>\n",
       "      <td>0</td>\n",
       "      <td>0</td>\n",
       "      <td>0</td>\n",
       "      <td>69ZZ</td>\n",
       "      <td>105</td>\n",
       "    </tr>\n",
       "    <tr>\n",
       "      <th>3</th>\n",
       "      <td>0</td>\n",
       "      <td>0</td>\n",
       "      <td>0</td>\n",
       "      <td>0</td>\n",
       "      <td>1</td>\n",
       "      <td>6905</td>\n",
       "      <td>2</td>\n",
       "    </tr>\n",
       "    <tr>\n",
       "      <th>4</th>\n",
       "      <td>0</td>\n",
       "      <td>0</td>\n",
       "      <td>0</td>\n",
       "      <td>0</td>\n",
       "      <td>1</td>\n",
       "      <td>6906</td>\n",
       "      <td>12</td>\n",
       "    </tr>\n",
       "  </tbody>\n",
       "</table>\n",
       "</div>"
      ],
      "text/plain": [
       "   age  gender  occupation  has_car  home_status canton  vol\n",
       "0    0       0           0        0            0   6906    3\n",
       "1    0       0           0        0            0  69123  121\n",
       "2    0       0           0        0            0   69ZZ  105\n",
       "3    0       0           0        0            1   6905    2\n",
       "4    0       0           0        0            1   6906   12"
      ]
     },
     "metadata": {},
     "output_type": "display_data"
    },
    {
     "name": "stdout",
     "output_type": "stream",
     "text": [
      "egt_grouped (0 joint modalities):\n"
     ]
    },
    {
     "data": {
      "text/html": [
       "<div>\n",
       "<style scoped>\n",
       "    .dataframe tbody tr th:only-of-type {\n",
       "        vertical-align: middle;\n",
       "    }\n",
       "\n",
       "    .dataframe tbody tr th {\n",
       "        vertical-align: top;\n",
       "    }\n",
       "\n",
       "    .dataframe thead th {\n",
       "        text-align: right;\n",
       "    }\n",
       "</style>\n",
       "<table border=\"1\" class=\"dataframe\">\n",
       "  <thead>\n",
       "    <tr style=\"text-align: right;\">\n",
       "      <th></th>\n",
       "      <th>age</th>\n",
       "      <th>gender</th>\n",
       "      <th>occupation</th>\n",
       "      <th>has_car</th>\n",
       "      <th>home_status</th>\n",
       "      <th>canton</th>\n",
       "      <th>vol</th>\n",
       "    </tr>\n",
       "  </thead>\n",
       "  <tbody>\n",
       "  </tbody>\n",
       "</table>\n",
       "</div>"
      ],
      "text/plain": [
       "Empty DataFrame\n",
       "Columns: [age, gender, occupation, has_car, home_status, canton, vol]\n",
       "Index: []"
      ]
     },
     "metadata": {},
     "output_type": "display_data"
    }
   ],
   "source": [
    "from IPython.display import display\n",
    "print('census_grouped ({} joint modalities):'.format(len(census_grouped)))\n",
    "display(census_grouped.head())\n",
    "print('egt_grouped ({} joint modalities):'.format(len(egt_grouped)))\n",
    "display(egt_grouped.head())"
   ]
  },
  {
   "cell_type": "markdown",
   "id": "ae7cc8ef",
   "metadata": {},
   "source": [
    "### Naive approach : what we get with a normal join"
   ]
  },
  {
   "cell_type": "code",
   "execution_count": 9,
   "id": "758f2747",
   "metadata": {},
   "outputs": [
    {
     "name": "stdout",
     "output_type": "stream",
     "text": [
      "naive join on matching attributes :\n",
      "0 groups ( 0.0% of census rows) have >=20 matching egt rows\n",
      "0 groups ( 0.0% of census rows) have >0, <20 matching egt rows\n",
      "1457 groups (100.0% of census rows) have no matching egt rows\n"
     ]
    }
   ],
   "source": [
    "census_x_egt = census_grouped.merge(egt_grouped, on=matching_order, \n",
    "                                 how='left', suffixes=( '_census', '_egt'))\n",
    "print('naive join on matching attributes :')\n",
    "\n",
    "tmp = census_x_egt[census_x_egt['vol_egt']>=vol_thres]\n",
    "print('{} groups ({:>4.1f}% of census rows) have >={} matching egt rows'.format(len(tmp), \n",
    "                                                100*tmp['vol_census'].sum()/len(census), vol_thres))\n",
    "\n",
    "tmp = census_x_egt[(census_x_egt['vol_egt']<vol_thres)&(~census_x_egt['vol_egt'].isna())]\n",
    "print('{} groups ({:>4.1f}% of census rows) have >0, <{} matching egt rows'.format(len(tmp),\n",
    "                                                100*tmp['vol_census'].sum()/len(census), vol_thres))\n",
    "\n",
    "tmp = census_x_egt[census_x_egt['vol_egt'].isna()]\n",
    "print('{} groups ({:>4.1f}% of census rows) have no matching egt rows'.format(len(tmp),\n",
    "                                                100*tmp['vol_census'].sum()/len(census), vol_thres))\n"
   ]
  },
  {
   "cell_type": "markdown",
   "id": "f1f970c0",
   "metadata": {},
   "source": [
    "### Computing `imax` for each census group"
   ]
  },
  {
   "cell_type": "code",
   "execution_count": 10,
   "id": "95aadc5d",
   "metadata": {},
   "outputs": [
    {
     "data": {
      "text/html": [
       "<div>\n",
       "<style scoped>\n",
       "    .dataframe tbody tr th:only-of-type {\n",
       "        vertical-align: middle;\n",
       "    }\n",
       "\n",
       "    .dataframe tbody tr th {\n",
       "        vertical-align: top;\n",
       "    }\n",
       "\n",
       "    .dataframe thead th {\n",
       "        text-align: right;\n",
       "    }\n",
       "</style>\n",
       "<table border=\"1\" class=\"dataframe\">\n",
       "  <thead>\n",
       "    <tr style=\"text-align: right;\">\n",
       "      <th></th>\n",
       "      <th>var</th>\n",
       "      <th>#mods</th>\n",
       "      <th>#groups</th>\n",
       "      <th>#groups matching &gt;=20 egt rows</th>\n",
       "      <th>%vol</th>\n",
       "    </tr>\n",
       "  </thead>\n",
       "  <tbody>\n",
       "    <tr>\n",
       "      <th>0</th>\n",
       "      <td>age</td>\n",
       "      <td>4</td>\n",
       "      <td>0</td>\n",
       "      <td>0</td>\n",
       "      <td>0%</td>\n",
       "    </tr>\n",
       "    <tr>\n",
       "      <th>1</th>\n",
       "      <td>gender</td>\n",
       "      <td>2</td>\n",
       "      <td>0</td>\n",
       "      <td>0</td>\n",
       "      <td>0%</td>\n",
       "    </tr>\n",
       "    <tr>\n",
       "      <th>2</th>\n",
       "      <td>occupation</td>\n",
       "      <td>9</td>\n",
       "      <td>0</td>\n",
       "      <td>0</td>\n",
       "      <td>0%</td>\n",
       "    </tr>\n",
       "    <tr>\n",
       "      <th>3</th>\n",
       "      <td>has_car</td>\n",
       "      <td>2</td>\n",
       "      <td>0</td>\n",
       "      <td>0</td>\n",
       "      <td>0%</td>\n",
       "    </tr>\n",
       "    <tr>\n",
       "      <th>4</th>\n",
       "      <td>home_status</td>\n",
       "      <td>3</td>\n",
       "      <td>0</td>\n",
       "      <td>0</td>\n",
       "      <td>0%</td>\n",
       "    </tr>\n",
       "    <tr>\n",
       "      <th>5</th>\n",
       "      <td>canton</td>\n",
       "      <td>8</td>\n",
       "      <td>0</td>\n",
       "      <td>0</td>\n",
       "      <td>0%</td>\n",
       "    </tr>\n",
       "  </tbody>\n",
       "</table>\n",
       "</div>"
      ],
      "text/plain": [
       "           var  #mods  #groups  #groups matching >=20 egt rows %vol\n",
       "0          age      4        0                               0   0%\n",
       "1       gender      2        0                               0   0%\n",
       "2   occupation      9        0                               0   0%\n",
       "3      has_car      2        0                               0   0%\n",
       "4  home_status      3        0                               0   0%\n",
       "5       canton      8        0                               0   0%"
      ]
     },
     "execution_count": 10,
     "metadata": {},
     "output_type": "execute_result"
    }
   ],
   "source": [
    "mod_col = []\n",
    "group_col = []\n",
    "groupmatch_col = []\n",
    "vol_col = []\n",
    "\n",
    "census_grouped['imax']=0\n",
    "for i in range(1, len(matching_order)+1):\n",
    "    maskdf = egt_grouped.groupby(matching_order[:i])['vol'].sum().reset_index()\n",
    "\n",
    "    census_grouped = census_grouped.merge(maskdf, on=matching_order[:i], suffixes=('','_mask'), how='left')\n",
    "    census_grouped.loc[census_grouped['vol_mask']>=vol_thres, 'imax'] = i\n",
    "    \n",
    "    mod_col.append(len(census_grouped[matching_order[i-1]].unique()))\n",
    "    group_col.append(len(maskdf))\n",
    "    groupmatch_col.append((census_grouped.groupby(matching_order[:i])['vol_mask'].sum()>vol_thres).sum())\n",
    "    vol_col.append('{:.0f}%'.format(100*((census_grouped['vol_mask']>vol_thres)*census_grouped['vol']).sum()/census_grouped['vol'].sum()))\n",
    "\n",
    "    census_grouped.drop(columns=['vol_mask'], inplace=True)\n",
    "\n",
    "report_df = pd.DataFrame({'var':matching_order,\n",
    "                          '#mods':mod_col, \n",
    "                          '#groups':group_col, \n",
    "                          '#groups matching >={} egt rows'.format(vol_thres):groupmatch_col, \n",
    "                          '%vol':vol_col})\n",
    "\n",
    "report_df"
   ]
  },
  {
   "cell_type": "markdown",
   "id": "3a7885ba",
   "metadata": {},
   "source": [
    "#### Giving each census agent their `imax` "
   ]
  },
  {
   "cell_type": "code",
   "execution_count": 11,
   "id": "d84bbda9",
   "metadata": {},
   "outputs": [],
   "source": [
    "len_before_merge = len(census)\n",
    "census = census.merge(census_grouped.drop(columns=['vol']), on=matching_order)\n",
    "assert len_before_merge == len(census), 'we lost rows by merging census with census_grouped'"
   ]
  },
  {
   "cell_type": "markdown",
   "id": "9e02c2d6",
   "metadata": {},
   "source": [
    "#### Counting the number of groups when cropping after `imax` "
   ]
  },
  {
   "cell_type": "code",
   "execution_count": 12,
   "id": "277710bd",
   "metadata": {},
   "outputs": [
    {
     "name": "stderr",
     "output_type": "stream",
     "text": [
      "100%|█████████████████████████████████████| 1457/1457 [00:01<00:00, 1188.17it/s]"
     ]
    },
    {
     "name": "stdout",
     "output_type": "stream",
     "text": [
      "when considering only the imax first vars, getting 1 different profiles for statistical matching\n"
     ]
    },
    {
     "name": "stderr",
     "output_type": "stream",
     "text": [
      "\n"
     ]
    }
   ],
   "source": [
    "# replace vars after imax by None\n",
    "census_grouped_censored = census_grouped.copy()\n",
    "for nrow, row in tqdm(census_grouped_censored.iterrows(), total=len(census_grouped_censored)):\n",
    "    row[matching_order[int(row['imax']):]] = None\n",
    "    census_grouped_censored.iloc[nrow] = row\n",
    "    \n",
    "# groupby keeping None\n",
    "census_grouped_censored = (census_grouped_censored\n",
    "                           .groupby(['imax']+matching_order, dropna=False)\n",
    "                           ['vol'].sum()\n",
    "                           .reset_index())\n",
    "\n",
    "tqdm.write('when considering only the imax first vars, getting {} different profiles for statistical matching'.format(len(census_grouped_censored)))"
   ]
  },
  {
   "cell_type": "markdown",
   "id": "fd6e75da",
   "metadata": {},
   "source": [
    "<a id='profiles_egt'></a>\n",
    "## Finding EGT rows for each profile\n",
    "* For each profile in census, we create a dataframe of all EGT rows matching the profile.\n",
    "* Recall that an EGT row can be matched to differents profiles, if there are profiles sharing the same first modalities but with a different `imax`.\n",
    "* [back to summary](#summary)"
   ]
  },
  {
   "cell_type": "code",
   "execution_count": 13,
   "id": "7c66cf0d",
   "metadata": {},
   "outputs": [],
   "source": [
    "def get_mask(df, target_row, matching_order, imax):\n",
    "    \"\"\"\n",
    "    return a mask column of df rows that match target_row up to the imax first columns in matching_order\n",
    "    \"\"\"\n",
    "    target_arr = target_row[matching_order].values[:imax]\n",
    "    mask = (df[matching_order].values[:, :imax] == target_arr).all(axis=1)\n",
    "    return mask\n",
    "\n",
    "def get_fold(df, target_row, matching_order, imax):\n",
    "    \"\"\"\n",
    "    return a dataframe made of rows of df that match target_row up to the imax first columns in matching_order\n",
    "    \"\"\"\n",
    "    mask = get_mask(df, target_row, matching_order, int(imax))\n",
    "    return df.loc[df[mask].index, :]\n"
   ]
  },
  {
   "cell_type": "markdown",
   "id": "c7141188",
   "metadata": {},
   "source": [
    "### EGT folded\n",
    "* For each join key in census, getting the sub-df of EGT containing all the rows of EGT matching this key.\n",
    "* We use it after to perform the join.\n",
    "* So this amounts to a merge with variable join key\n"
   ]
  },
  {
   "cell_type": "code",
   "execution_count": 14,
   "id": "89cc7732",
   "metadata": {},
   "outputs": [
    {
     "name": "stderr",
     "output_type": "stream",
     "text": [
      "100%|█████████████████████████████████████████████| 1/1 [00:00<00:00, 32.96it/s]\n"
     ]
    }
   ],
   "source": [
    "egt_folded = {}\n",
    "for k, row in tqdm(census_grouped_censored.iterrows(), total=len(census_grouped_censored)):\n",
    "    key = tuple(row[matching_order[:int(row['imax'])]].values)\n",
    "    fold = get_fold(egt, row, matching_order, row['imax'])\n",
    "    # Normalising weights of rows inside each fold\n",
    "    fold.loc[fold.index, 'weight'] = fold['scaling_factor_person']/fold['scaling_factor_person'].sum()\n",
    "    egt_folded[key] = fold\n",
    "\n"
   ]
  },
  {
   "cell_type": "markdown",
   "id": "4817b34b",
   "metadata": {},
   "source": [
    "#### Sanity check"
   ]
  },
  {
   "cell_type": "code",
   "execution_count": 15,
   "id": "23f987d0",
   "metadata": {},
   "outputs": [
    {
     "name": "stdout",
     "output_type": "stream",
     "text": [
      "everything ok, no error detected that could be due to pandas whims\n"
     ]
    }
   ],
   "source": [
    "# Checking weights of rows\n",
    "for k,fold in egt_folded.items():\n",
    "    if len(fold)<vol_thres:\n",
    "        print('error: found a group with not enough egt individuals :' ,k, len(fold))\n",
    "\n",
    "# just checking that nothing went wrong when attributing values to DFs that were taken from another DF\n",
    "check = True\n",
    "for k,fold in egt_folded.items():\n",
    "    check = check and np.all(egt_folded[k].loc[egt_folded[k].index, 'weight'] == egt_folded[k]['scaling_factor_person']/egt_folded[k]['scaling_factor_person'].sum())\n",
    "if check:\n",
    "    print('everything ok, no error detected that could be due to pandas whims')\n",
    "else:\n",
    "    print('something went wrong when attributing values to columns in df that were copies of a df')\n"
   ]
  },
  {
   "cell_type": "markdown",
   "id": "041324a2",
   "metadata": {},
   "source": [
    "<a id='draw'></a>\n",
    "## Drawing an agenda for each row in the census\n",
    "* Each census row has a profile, and each profile has a list of EGT rows. \n",
    "* For each profile matching $C$ census rows and $E$ egt rows, we draw $C$ egt rows with replacement and assign their agendas to the census rows.\n",
    "* Drawing of egt rows is made with weights defined by the scaling factors of the egt rows\n",
    "* [back to summary](#summary)"
   ]
  },
  {
   "cell_type": "code",
   "execution_count": 16,
   "id": "742de642",
   "metadata": {},
   "outputs": [
    {
     "name": "stderr",
     "output_type": "stream",
     "text": [
      "100%|█████████████████████████████████████████████| 1/1 [00:00<00:00,  1.10it/s]\n"
     ]
    }
   ],
   "source": [
    "# 00:02:00\n",
    "\n",
    "census['id_agenda'] = -1\n",
    "for k, row in tqdm(census_grouped_censored.iterrows(), total=len(census_grouped_censored)):\n",
    "    imax = int(row['imax'])\n",
    "    t=tuple(row[matching_order[:imax]].values)\n",
    "    \n",
    "    census_mask = get_mask(census, row, ['imax']+matching_order, imax+1)  # the imax must match too\n",
    "    \n",
    "    agenda_draw = np.random.choice(egt_folded[t]['id_per'].values, \n",
    "                                   int(census_mask.sum()),\n",
    "                                   p=egt_folded[t]['weight'])\n",
    "    \n",
    "    census.loc[census[census_mask==1].index, 'id_agenda'] = agenda_draw\n"
   ]
  },
  {
   "cell_type": "markdown",
   "id": "f06bf934",
   "metadata": {},
   "source": [
    "<a id='export'></a>\n",
    "# Cleaning & Exporting\n",
    "* [back to summary](#summary)"
   ]
  },
  {
   "cell_type": "code",
   "execution_count": 17,
   "id": "d2050db2",
   "metadata": {},
   "outputs": [
    {
     "name": "stdout",
     "output_type": "stream",
     "text": [
      "2023-11-28 06:48:55.169272\n",
      "Exported to:\n",
      "/Users/benoit/Desktop/Pro/210526-fusion/outdata/synthpop/synthpop_statmatch.csv\n"
     ]
    },
    {
     "data": {
      "text/html": [
       "<div>\n",
       "<style scoped>\n",
       "    .dataframe tbody tr th:only-of-type {\n",
       "        vertical-align: middle;\n",
       "    }\n",
       "\n",
       "    .dataframe tbody tr th {\n",
       "        vertical-align: top;\n",
       "    }\n",
       "\n",
       "    .dataframe thead th {\n",
       "        text-align: right;\n",
       "    }\n",
       "</style>\n",
       "<table border=\"1\" class=\"dataframe\">\n",
       "  <thead>\n",
       "    <tr style=\"text-align: right;\">\n",
       "      <th></th>\n",
       "      <th>iris_or_commune</th>\n",
       "      <th>gender</th>\n",
       "      <th>has_car</th>\n",
       "      <th>occupation</th>\n",
       "      <th>age</th>\n",
       "      <th>home_status</th>\n",
       "      <th>main_transport_work</th>\n",
       "      <th>id_agenda</th>\n",
       "    </tr>\n",
       "  </thead>\n",
       "  <tbody>\n",
       "    <tr>\n",
       "      <th>0</th>\n",
       "      <td>690270102</td>\n",
       "      <td>0</td>\n",
       "      <td>1</td>\n",
       "      <td>8</td>\n",
       "      <td>3</td>\n",
       "      <td>0</td>\n",
       "      <td>-1</td>\n",
       "      <td>1320021221</td>\n",
       "    </tr>\n",
       "    <tr>\n",
       "      <th>1</th>\n",
       "      <td>690270102</td>\n",
       "      <td>0</td>\n",
       "      <td>1</td>\n",
       "      <td>8</td>\n",
       "      <td>3</td>\n",
       "      <td>0</td>\n",
       "      <td>-1</td>\n",
       "      <td>10800131</td>\n",
       "    </tr>\n",
       "    <tr>\n",
       "      <th>2</th>\n",
       "      <td>690270102</td>\n",
       "      <td>0</td>\n",
       "      <td>1</td>\n",
       "      <td>8</td>\n",
       "      <td>3</td>\n",
       "      <td>0</td>\n",
       "      <td>-1</td>\n",
       "      <td>243003762</td>\n",
       "    </tr>\n",
       "    <tr>\n",
       "      <th>3</th>\n",
       "      <td>690270102</td>\n",
       "      <td>0</td>\n",
       "      <td>1</td>\n",
       "      <td>8</td>\n",
       "      <td>3</td>\n",
       "      <td>0</td>\n",
       "      <td>-1</td>\n",
       "      <td>229755801</td>\n",
       "    </tr>\n",
       "    <tr>\n",
       "      <th>4</th>\n",
       "      <td>690270102</td>\n",
       "      <td>0</td>\n",
       "      <td>1</td>\n",
       "      <td>8</td>\n",
       "      <td>3</td>\n",
       "      <td>0</td>\n",
       "      <td>-1</td>\n",
       "      <td>7050031782</td>\n",
       "    </tr>\n",
       "  </tbody>\n",
       "</table>\n",
       "</div>"
      ],
      "text/plain": [
       "  iris_or_commune  gender  has_car  occupation  age  home_status   \n",
       "0       690270102       0        1           8    3            0  \\\n",
       "1       690270102       0        1           8    3            0   \n",
       "2       690270102       0        1           8    3            0   \n",
       "3       690270102       0        1           8    3            0   \n",
       "4       690270102       0        1           8    3            0   \n",
       "\n",
       "   main_transport_work   id_agenda  \n",
       "0                   -1  1320021221  \n",
       "1                   -1    10800131  \n",
       "2                   -1   243003762  \n",
       "3                   -1   229755801  \n",
       "4                   -1  7050031782  "
      ]
     },
     "execution_count": 17,
     "metadata": {},
     "output_type": "execute_result"
    }
   ],
   "source": [
    "out_path = os.path.join(config['outdata_dir']['path'], config['outdata_dir']['synthpop_statmatch_filename'])\n",
    "print(datetime.datetime.now())\n",
    "print('Exported to:')\n",
    "print(out_path)\n",
    "census = census.drop(columns=['commune', 'CODGEO', 'canton', 'imax'])\n",
    "census.to_csv(out_path, index=False)\n",
    "census.head()"
   ]
  },
  {
   "cell_type": "code",
   "execution_count": null,
   "id": "5840fd82",
   "metadata": {},
   "outputs": [],
   "source": []
  }
 ],
 "metadata": {
  "kernelspec": {
   "display_name": "Python 3 (ipykernel)",
   "language": "python",
   "name": "python3"
  },
  "language_info": {
   "codemirror_mode": {
    "name": "ipython",
    "version": 3
   },
   "file_extension": ".py",
   "mimetype": "text/x-python",
   "name": "python",
   "nbconvert_exporter": "python",
   "pygments_lexer": "ipython3",
   "version": "3.9.5"
  }
 },
 "nbformat": 4,
 "nbformat_minor": 5
}
