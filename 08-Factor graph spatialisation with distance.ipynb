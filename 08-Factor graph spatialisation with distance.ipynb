{
 "cells": [
  {
   "cell_type": "markdown",
   "id": "bd23d20a",
   "metadata": {},
   "source": [
    "<a id='summary'></a>\n",
    "# Spatialization\n",
    "* Using the Orange OD Matrix as a transition matrix to draw destinations for the census equipped with agendas.\n",
    "* <font color='red'> **v9**: \n",
    "    * proba o is not used\n",
    "    * transition matrix is differentiated by distance bin, but not by mode\n",
    "</font>\n",
    "\n",
    "## Summary\n",
    "* [Parameters](#parameters)\n",
    "\n",
    "\n",
    "* [Loading data](#data)\n",
    "    * [GIS](#gis)\n",
    "    * [transition_matrices](#od)\n",
    "    * [synthetic pop](#synthpop) ([Grouping agendas](#Grouping_agendas))\n",
    "    \n",
    "    \n",
    "* [Preparing df to dicts of arrays](#preproc)\n",
    "\n",
    "* [Functions to query probas](#proba)\n",
    "\n",
    "* [Running](#running)\n",
    "    \n",
    "    \n",
    "* [Sanity checks](#sanity)\n",
    "* [Adding empty agendas](#add_empty)\n",
    "* [Exportation & conclusion](#export)\n"
   ]
  },
  {
   "cell_type": "code",
   "execution_count": 1,
   "id": "a5a6b622",
   "metadata": {},
   "outputs": [],
   "source": [
    "import datetime\n",
    "import json\n",
    "import os\n",
    "import pandas as pd\n",
    "import matplotlib.pyplot as plt\n",
    "import numpy as np\n",
    "\n",
    "import geopandas as gpd\n",
    "import numba\n",
    "from numba import njit, prange\n",
    "from numba_progress import ProgressBar\n",
    "from tqdm import tqdm\n",
    "\n",
    "from utils.chrono import Chrono\n",
    "from utils_spatialize.npjoin import npjoin\n",
    "from utils_spatialize.nptile import nptile\n",
    "from utils_spatialize.npchoice import npchoice\n",
    "\n",
    "with open('config.json', 'r') as config_path:\n",
    "    config = json.load(config_path)"
   ]
  },
  {
   "cell_type": "markdown",
   "id": "5124d346",
   "metadata": {},
   "source": [
    "<a id='parameters'></a>\n",
    "## Spatialisation parameters\n",
    "* Number of iteration to warmup MCMC with respect to max autonomy of the agenda\n",
    "* And number of cooldown iterations wrt autonomy\n",
    "* Recall: the max autonomy of an agenda is the max number of activities that is performed between two `home`\n",
    "* Agendas with low autonomy are actually several segments of low dimension so don't require a lot of warmup/cooldown\n",
    "* Note that entry n°0 is never used\n",
    "* [back to summary](#summary)"
   ]
  },
  {
   "cell_type": "code",
   "execution_count": 2,
   "id": "c07b680f",
   "metadata": {},
   "outputs": [],
   "source": [
    "nb_warm_iter_dict = np.array(config['nb_warmup_mcmc'])\n",
    "nb_cooldown_iter_dict = np.array(config['nb_cooldown_mcmc'])"
   ]
  },
  {
   "cell_type": "markdown",
   "id": "4bc43b0f",
   "metadata": {},
   "source": [
    "<a id='data'></a>\n",
    "# Loading data"
   ]
  },
  {
   "cell_type": "markdown",
   "id": "a54231aa",
   "metadata": {},
   "source": [
    "<a id='gis'></a>\n",
    "## GIS\n",
    "* Just to get the nearest neighbours for when agents ask for flows that do not exist in the transition matrix\n",
    "* [back to summary](#summary)"
   ]
  },
  {
   "cell_type": "code",
   "execution_count": 3,
   "id": "9282cf62",
   "metadata": {},
   "outputs": [],
   "source": [
    "gis_path = os.path.join(config['outdata_dir']['path'], config['outdata_dir']['gis_map_filename'])\n",
    "iris_commune = gpd.read_file(gis_path)\n",
    "\n",
    "iris_commune = iris_commune.drop(columns=['wkt','geometry', 'is_iris'])\n",
    "\n",
    "for col in iris_commune.columns:\n",
    "    iris_commune[col] = iris_commune[col].astype(float)\n"
   ]
  },
  {
   "cell_type": "markdown",
   "id": "2c17077d",
   "metadata": {},
   "source": [
    "<a id='od'></a>\n",
    "## Transition matrices\n",
    "* <font color='red'> **v9**: transition matrix is not by mode but by distance bins</font>\n",
    "* [back to summary](#summary)"
   ]
  },
  {
   "cell_type": "code",
   "execution_count": 4,
   "id": "f5aee275",
   "metadata": {},
   "outputs": [
    {
     "name": "stdout",
     "output_type": "stream",
     "text": [
      "17:29:35\tLoading transition matrix...\n",
      "00:00:35\t2274789 rows\n",
      "00:00:35\tAdding distbin column...\n",
      "00:00:36\tdist bins: [   0.  200.  500. 1000. 3000. 5000. 7000. 9000.   inf]\n",
      "00:00:36\tWork complete !\n"
     ]
    },
    {
     "data": {
      "text/html": [
       "<div>\n",
       "<style scoped>\n",
       "    .dataframe tbody tr th:only-of-type {\n",
       "        vertical-align: middle;\n",
       "    }\n",
       "\n",
       "    .dataframe tbody tr th {\n",
       "        vertical-align: top;\n",
       "    }\n",
       "\n",
       "    .dataframe thead th {\n",
       "        text-align: right;\n",
       "    }\n",
       "</style>\n",
       "<table border=\"1\" class=\"dataframe\">\n",
       "  <thead>\n",
       "    <tr style=\"text-align: right;\">\n",
       "      <th></th>\n",
       "      <th>o</th>\n",
       "      <th>d</th>\n",
       "      <th>t</th>\n",
       "      <th>vol</th>\n",
       "      <th>proba_d</th>\n",
       "      <th>cart_key</th>\n",
       "      <th>x_o</th>\n",
       "      <th>y_o</th>\n",
       "      <th>geometry</th>\n",
       "      <th>x_d</th>\n",
       "      <th>y_d</th>\n",
       "      <th>centroid_dist</th>\n",
       "      <th>dist_bin_min</th>\n",
       "      <th>dist_bin_max</th>\n",
       "      <th>distbin</th>\n",
       "    </tr>\n",
       "  </thead>\n",
       "  <tbody>\n",
       "    <tr>\n",
       "      <th>0</th>\n",
       "      <td>1043</td>\n",
       "      <td>1043</td>\n",
       "      <td>0.0</td>\n",
       "      <td>9.132230</td>\n",
       "      <td>1.0</td>\n",
       "      <td>1</td>\n",
       "      <td>3.932173e+06</td>\n",
       "      <td>2.538223e+06</td>\n",
       "      <td>POLYGON ((3931567.736276 2535603.293955, 39314...</td>\n",
       "      <td>3.932173e+06</td>\n",
       "      <td>2.538223e+06</td>\n",
       "      <td>0.0</td>\n",
       "      <td>0</td>\n",
       "      <td>200.0</td>\n",
       "      <td>0</td>\n",
       "    </tr>\n",
       "    <tr>\n",
       "      <th>1</th>\n",
       "      <td>1043</td>\n",
       "      <td>1043</td>\n",
       "      <td>2.0</td>\n",
       "      <td>5.813602</td>\n",
       "      <td>1.0</td>\n",
       "      <td>1</td>\n",
       "      <td>3.932173e+06</td>\n",
       "      <td>2.538223e+06</td>\n",
       "      <td>POLYGON ((3931567.736276 2535603.293955, 39314...</td>\n",
       "      <td>3.932173e+06</td>\n",
       "      <td>2.538223e+06</td>\n",
       "      <td>0.0</td>\n",
       "      <td>0</td>\n",
       "      <td>200.0</td>\n",
       "      <td>0</td>\n",
       "    </tr>\n",
       "    <tr>\n",
       "      <th>2</th>\n",
       "      <td>1043</td>\n",
       "      <td>1043</td>\n",
       "      <td>5.0</td>\n",
       "      <td>17.833213</td>\n",
       "      <td>1.0</td>\n",
       "      <td>1</td>\n",
       "      <td>3.932173e+06</td>\n",
       "      <td>2.538223e+06</td>\n",
       "      <td>POLYGON ((3931567.736276 2535603.293955, 39314...</td>\n",
       "      <td>3.932173e+06</td>\n",
       "      <td>2.538223e+06</td>\n",
       "      <td>0.0</td>\n",
       "      <td>0</td>\n",
       "      <td>200.0</td>\n",
       "      <td>0</td>\n",
       "    </tr>\n",
       "    <tr>\n",
       "      <th>3</th>\n",
       "      <td>1043</td>\n",
       "      <td>1043</td>\n",
       "      <td>7.0</td>\n",
       "      <td>54.360548</td>\n",
       "      <td>1.0</td>\n",
       "      <td>1</td>\n",
       "      <td>3.932173e+06</td>\n",
       "      <td>2.538223e+06</td>\n",
       "      <td>POLYGON ((3931567.736276 2535603.293955, 39314...</td>\n",
       "      <td>3.932173e+06</td>\n",
       "      <td>2.538223e+06</td>\n",
       "      <td>0.0</td>\n",
       "      <td>0</td>\n",
       "      <td>200.0</td>\n",
       "      <td>0</td>\n",
       "    </tr>\n",
       "    <tr>\n",
       "      <th>4</th>\n",
       "      <td>1043</td>\n",
       "      <td>1043</td>\n",
       "      <td>8.0</td>\n",
       "      <td>29.113536</td>\n",
       "      <td>1.0</td>\n",
       "      <td>1</td>\n",
       "      <td>3.932173e+06</td>\n",
       "      <td>2.538223e+06</td>\n",
       "      <td>POLYGON ((3931567.736276 2535603.293955, 39314...</td>\n",
       "      <td>3.932173e+06</td>\n",
       "      <td>2.538223e+06</td>\n",
       "      <td>0.0</td>\n",
       "      <td>0</td>\n",
       "      <td>200.0</td>\n",
       "      <td>0</td>\n",
       "    </tr>\n",
       "  </tbody>\n",
       "</table>\n",
       "</div>"
      ],
      "text/plain": [
       "      o     d    t        vol  proba_d  cart_key           x_o           y_o   \n",
       "0  1043  1043  0.0   9.132230      1.0         1  3.932173e+06  2.538223e+06  \\\n",
       "1  1043  1043  2.0   5.813602      1.0         1  3.932173e+06  2.538223e+06   \n",
       "2  1043  1043  5.0  17.833213      1.0         1  3.932173e+06  2.538223e+06   \n",
       "3  1043  1043  7.0  54.360548      1.0         1  3.932173e+06  2.538223e+06   \n",
       "4  1043  1043  8.0  29.113536      1.0         1  3.932173e+06  2.538223e+06   \n",
       "\n",
       "                                            geometry           x_d   \n",
       "0  POLYGON ((3931567.736276 2535603.293955, 39314...  3.932173e+06  \\\n",
       "1  POLYGON ((3931567.736276 2535603.293955, 39314...  3.932173e+06   \n",
       "2  POLYGON ((3931567.736276 2535603.293955, 39314...  3.932173e+06   \n",
       "3  POLYGON ((3931567.736276 2535603.293955, 39314...  3.932173e+06   \n",
       "4  POLYGON ((3931567.736276 2535603.293955, 39314...  3.932173e+06   \n",
       "\n",
       "            y_d  centroid_dist  dist_bin_min  dist_bin_max  distbin  \n",
       "0  2.538223e+06            0.0             0         200.0        0  \n",
       "1  2.538223e+06            0.0             0         200.0        0  \n",
       "2  2.538223e+06            0.0             0         200.0        0  \n",
       "3  2.538223e+06            0.0             0         200.0        0  \n",
       "4  2.538223e+06            0.0             0         200.0        0  "
      ]
     },
     "execution_count": 4,
     "metadata": {},
     "output_type": "execute_result"
    }
   ],
   "source": [
    "transition_matrix_path = os.path.join(config['outdata_dir']['path'],\n",
    "                                      config['outdata_dir']['transition_matrix_by_dist_filename'])\n",
    "c = Chrono('Loading transition matrix from {}'.format(transition_matrix_path))\n",
    "trans_matrix = pd.read_csv(transition_matrix_path)\n",
    "c.write('{} rows'.format(len(trans_matrix)))\n",
    "\n",
    "c.write('Adding distbin column...')\n",
    "\n",
    "distbins = np.sort(trans_matrix['dist_bin_min'].unique())\n",
    "c.write('dist bins: {}'.format(np.concatenate([distbins, [trans_matrix['dist_bin_max'].max()]])))\n",
    "\n",
    "bin_id_dict = {rmin:i for i, rmin in enumerate(distbins)}\n",
    "trans_matrix['distbin'] = trans_matrix['dist_bin_min'].replace(bin_id_dict)\n",
    "\n",
    "\n",
    "c.done()\n",
    "trans_matrix.head()\n",
    "\n"
   ]
  },
  {
   "cell_type": "markdown",
   "id": "23f6e728",
   "metadata": {},
   "source": [
    "<a id='synthpop'></a>\n",
    "## Synthetic population\n",
    "* [back to summary](#summary)"
   ]
  },
  {
   "cell_type": "code",
   "execution_count": 5,
   "id": "27588fea",
   "metadata": {},
   "outputs": [
    {
     "name": "stdout",
     "output_type": "stream",
     "text": [
      "17:30:11\tLoading agents from /Users/benoit/Desktop/Pro/210526-fusion/outdata/synthpop/synthpop_statmatch_rescaleipu.csv\n",
      "00:00:18\tWork complete !\n",
      "00:00:18\t1335786 rows, 1 row per agents\n",
      "00:00:18\tmax_chain_len = 10\n"
     ]
    },
    {
     "data": {
      "text/html": [
       "<div>\n",
       "<style scoped>\n",
       "    .dataframe tbody tr th:only-of-type {\n",
       "        vertical-align: middle;\n",
       "    }\n",
       "\n",
       "    .dataframe tbody tr th {\n",
       "        vertical-align: top;\n",
       "    }\n",
       "\n",
       "    .dataframe thead th {\n",
       "        text-align: right;\n",
       "    }\n",
       "</style>\n",
       "<table border=\"1\" class=\"dataframe\">\n",
       "  <thead>\n",
       "    <tr style=\"text-align: right;\">\n",
       "      <th></th>\n",
       "      <th>iris_or_commune</th>\n",
       "      <th>gender</th>\n",
       "      <th>has_car</th>\n",
       "      <th>occupation</th>\n",
       "      <th>age</th>\n",
       "      <th>home_status</th>\n",
       "      <th>main_transport_work</th>\n",
       "      <th>id_agenda</th>\n",
       "      <th>dep_0_motif</th>\n",
       "      <th>dep_0_zone</th>\n",
       "      <th>...</th>\n",
       "      <th>dep_7_distbin</th>\n",
       "      <th>dep_8_distbin</th>\n",
       "      <th>dep_9_distbin</th>\n",
       "      <th>dep_10_distbin</th>\n",
       "      <th>autonomy</th>\n",
       "      <th>work_tm_in_agenda</th>\n",
       "      <th>work_in_agenda</th>\n",
       "      <th>study_in_agenda</th>\n",
       "      <th>need_commute</th>\n",
       "      <th>agent_id</th>\n",
       "    </tr>\n",
       "  </thead>\n",
       "  <tbody>\n",
       "    <tr>\n",
       "      <th>0</th>\n",
       "      <td>690270102</td>\n",
       "      <td>0</td>\n",
       "      <td>1</td>\n",
       "      <td>8</td>\n",
       "      <td>3</td>\n",
       "      <td>0</td>\n",
       "      <td>-1</td>\n",
       "      <td>1320021221</td>\n",
       "      <td>0.0</td>\n",
       "      <td>132002.0</td>\n",
       "      <td>...</td>\n",
       "      <td>NaN</td>\n",
       "      <td>NaN</td>\n",
       "      <td>NaN</td>\n",
       "      <td>NaN</td>\n",
       "      <td>2.0</td>\n",
       "      <td>2.0</td>\n",
       "      <td>True</td>\n",
       "      <td>False</td>\n",
       "      <td>True</td>\n",
       "      <td>0</td>\n",
       "    </tr>\n",
       "    <tr>\n",
       "      <th>1</th>\n",
       "      <td>69288</td>\n",
       "      <td>0</td>\n",
       "      <td>1</td>\n",
       "      <td>6</td>\n",
       "      <td>1</td>\n",
       "      <td>0</td>\n",
       "      <td>2</td>\n",
       "      <td>1320021221</td>\n",
       "      <td>0.0</td>\n",
       "      <td>132002.0</td>\n",
       "      <td>...</td>\n",
       "      <td>NaN</td>\n",
       "      <td>NaN</td>\n",
       "      <td>NaN</td>\n",
       "      <td>NaN</td>\n",
       "      <td>2.0</td>\n",
       "      <td>2.0</td>\n",
       "      <td>True</td>\n",
       "      <td>False</td>\n",
       "      <td>True</td>\n",
       "      <td>1</td>\n",
       "    </tr>\n",
       "    <tr>\n",
       "      <th>2</th>\n",
       "      <td>69298</td>\n",
       "      <td>0</td>\n",
       "      <td>1</td>\n",
       "      <td>6</td>\n",
       "      <td>2</td>\n",
       "      <td>0</td>\n",
       "      <td>5</td>\n",
       "      <td>1320021221</td>\n",
       "      <td>0.0</td>\n",
       "      <td>132002.0</td>\n",
       "      <td>...</td>\n",
       "      <td>NaN</td>\n",
       "      <td>NaN</td>\n",
       "      <td>NaN</td>\n",
       "      <td>NaN</td>\n",
       "      <td>2.0</td>\n",
       "      <td>2.0</td>\n",
       "      <td>True</td>\n",
       "      <td>False</td>\n",
       "      <td>True</td>\n",
       "      <td>2</td>\n",
       "    </tr>\n",
       "    <tr>\n",
       "      <th>3</th>\n",
       "      <td>692661301</td>\n",
       "      <td>0</td>\n",
       "      <td>1</td>\n",
       "      <td>7</td>\n",
       "      <td>0</td>\n",
       "      <td>0</td>\n",
       "      <td>-1</td>\n",
       "      <td>1320021221</td>\n",
       "      <td>0.0</td>\n",
       "      <td>132002.0</td>\n",
       "      <td>...</td>\n",
       "      <td>NaN</td>\n",
       "      <td>NaN</td>\n",
       "      <td>NaN</td>\n",
       "      <td>NaN</td>\n",
       "      <td>2.0</td>\n",
       "      <td>2.0</td>\n",
       "      <td>True</td>\n",
       "      <td>False</td>\n",
       "      <td>True</td>\n",
       "      <td>3</td>\n",
       "    </tr>\n",
       "    <tr>\n",
       "      <th>4</th>\n",
       "      <td>690890301</td>\n",
       "      <td>0</td>\n",
       "      <td>1</td>\n",
       "      <td>5</td>\n",
       "      <td>2</td>\n",
       "      <td>0</td>\n",
       "      <td>-1</td>\n",
       "      <td>1320021221</td>\n",
       "      <td>0.0</td>\n",
       "      <td>132002.0</td>\n",
       "      <td>...</td>\n",
       "      <td>NaN</td>\n",
       "      <td>NaN</td>\n",
       "      <td>NaN</td>\n",
       "      <td>NaN</td>\n",
       "      <td>2.0</td>\n",
       "      <td>2.0</td>\n",
       "      <td>True</td>\n",
       "      <td>False</td>\n",
       "      <td>True</td>\n",
       "      <td>4</td>\n",
       "    </tr>\n",
       "  </tbody>\n",
       "</table>\n",
       "<p>5 rows × 90 columns</p>\n",
       "</div>"
      ],
      "text/plain": [
       "   iris_or_commune  gender  has_car  occupation  age  home_status   \n",
       "0        690270102       0        1           8    3            0  \\\n",
       "1            69288       0        1           6    1            0   \n",
       "2            69298       0        1           6    2            0   \n",
       "3        692661301       0        1           7    0            0   \n",
       "4        690890301       0        1           5    2            0   \n",
       "\n",
       "   main_transport_work   id_agenda  dep_0_motif  dep_0_zone  ...   \n",
       "0                   -1  1320021221          0.0    132002.0  ...  \\\n",
       "1                    2  1320021221          0.0    132002.0  ...   \n",
       "2                    5  1320021221          0.0    132002.0  ...   \n",
       "3                   -1  1320021221          0.0    132002.0  ...   \n",
       "4                   -1  1320021221          0.0    132002.0  ...   \n",
       "\n",
       "   dep_7_distbin  dep_8_distbin  dep_9_distbin  dep_10_distbin  autonomy   \n",
       "0            NaN            NaN            NaN             NaN       2.0  \\\n",
       "1            NaN            NaN            NaN             NaN       2.0   \n",
       "2            NaN            NaN            NaN             NaN       2.0   \n",
       "3            NaN            NaN            NaN             NaN       2.0   \n",
       "4            NaN            NaN            NaN             NaN       2.0   \n",
       "\n",
       "   work_tm_in_agenda  work_in_agenda  study_in_agenda  need_commute  agent_id  \n",
       "0                2.0            True            False          True         0  \n",
       "1                2.0            True            False          True         1  \n",
       "2                2.0            True            False          True         2  \n",
       "3                2.0            True            False          True         3  \n",
       "4                2.0            True            False          True         4  \n",
       "\n",
       "[5 rows x 90 columns]"
      ]
     },
     "execution_count": 5,
     "metadata": {},
     "output_type": "execute_result"
    }
   ],
   "source": [
    "synthpop_path = os.path.join(config['outdata_dir']['path'], config['outdata_dir']['synthpop_rescaled_filename'])\n",
    "\n",
    "c=Chrono('Loading agents from {}'.format(synthpop_path))\n",
    "synthpop = pd.read_csv(synthpop_path)\n",
    "c.done()\n",
    "\n",
    "c.write('{} rows, 1 row per agents'.format(len(synthpop)))\n",
    "\n",
    "max_chain_len = synthpop['chain_len'].max()\n",
    "c.write('max_chain_len = {}'.format(max_chain_len))\n",
    "\n",
    "synthpop.head()"
   ]
  },
  {
   "cell_type": "markdown",
   "id": "2eb58707",
   "metadata": {},
   "source": [
    "## Find centroid to centroid distances"
   ]
  },
  {
   "cell_type": "code",
   "execution_count": 6,
   "id": "cc36edf0",
   "metadata": {},
   "outputs": [],
   "source": [
    "# # Problem : some agendas go outside the study zone so we can't get the centroid-to-centroid distance\n",
    "# \n",
    "# zf_path = os.path.join(config['data_dir']['path'], \n",
    "#                        config['data_dir']['HTS_gis_filename'])\n",
    "# zf = gpd.read_file(zf_path).to_crs('epsg:3035')\n",
    "# \n",
    "# zf['ZF2015_Nouveau_codage'] = zf['ZF2015_Nouveau_codage'].astype(float)\n",
    "# zf['x'] = zf['geometry'].centroid.x\n",
    "# zf['y'] = zf['geometry'].centroid.y\n",
    "# gis_coords = zf[['ZF2015_Nouveau_codage', 'x', 'y']]\n",
    "# gis_coords.head(3)\n",
    "# \n",
    "# print(len(synthpop))\n",
    "# for i in range(0, max_chain_len+1):\n",
    "#     synthpop = synthpop.merge(gis_coords.rename(columns={'x':'x_{}'.format(i), 'y':'y_{}'.format(i)}),\n",
    "#                               left_on='dep_{}_zone'.format(i),\n",
    "#                              right_on=('ZF2015_Nouveau_codage'),\n",
    "#                              how='left').drop(columns=['ZF2015_Nouveau_codage'])\n",
    "#     print(len(synthpop))\n",
    "#     \n",
    "# nb_missing_coords = len(synthpop[(synthpop['chain_len']>0) & (synthpop['x_1'].isna())]['dep_1_zone'].unique())\n",
    "# assert nb_missing_coords==0, \"Some zones indicated in the agendas are not in the corresponding GIS !\"\n",
    "# \n",
    "# \n",
    "# for i in range(1, max_chain_len+1):\n",
    "#     xprev = synthpop['x_{}'.format(i-1)]\n",
    "#     yprev = synthpop['y_{}'.format(i-1)]\n",
    "#     xnext = synthpop['x_{}'.format(i)]\n",
    "#     ynext = synthpop['y_{}'.format(i)]\n",
    "#     synthpop['dep_{}_centroid_dist'.format(i)] = np.sqrt((xprev-xnext)**2+(yprev-ynext)**2)\n",
    "#     \n",
    "#     \n",
    "#     \n",
    "# for i in range(1, max_chain_len+1):\n",
    "#     synthpop['dep_{}_distbin'.format(i)] = pd.cut(synthpop['dep_{}_l2'.format(i)], \n",
    "#                                                   bins=np.concatenate([distbins,[np.inf]]), \n",
    "#                                                    include_lowest=True,\n",
    "#                                                   labels=range(len(distbins))).astype(float)\n",
    "#     \n",
    "#     \n",
    "# # ensuring we have a distance specified for all trips of each agenda\n",
    "# l2_col_names = ['dep_{}_centroid_dist'.format(i) for i in range(1, max_chain_len+1)]\n",
    "# nb_wrongs = ((~np.isnan(synthpop[l2_col_names].values)).sum(axis=1) != synthpop['chain_len']).sum()\n",
    "# assert nb_wrongs == 0, '{} agendas have missing distances'.format(nb_wrongs)\n",
    "# \n",
    "# # ensuring we have a dist bin specified for all trips of each agenda\n",
    "# distbin_col_names = ['dep_{}_distbin'.format(i) for i in range(1, max_chain_len+1)]\n",
    "# wrong_nb_of_distbins_mask = (~np.isnan(synthpop[distbin_col_names].values)).sum(axis=1) != synthpop['chain_len']\n",
    "# assert wrong_nb_of_distbins_mask.sum() == 0"
   ]
  },
  {
   "cell_type": "markdown",
   "id": "4421ee33",
   "metadata": {},
   "source": [
    "#### viz"
   ]
  },
  {
   "cell_type": "code",
   "execution_count": 7,
   "id": "472a9bd8",
   "metadata": {},
   "outputs": [
    {
     "data": {
      "image/png": "[encoded data removed]",
      "text/plain": [
       "<Figure size 1080x216 with 1 Axes>"
      ]
     },
     "metadata": {
      "needs_background": "light"
     },
     "output_type": "display_data"
    }
   ],
   "source": [
    "from utils.comp_bar import comp_bar\n",
    "\n",
    "\n",
    "synthpop_bin_counts = (pd.concat([synthpop.groupby('dep_{}_distbin'.format(i)).size() \n",
    "                                  for i in range(1, max_chain_len+1)])\n",
    "                       .reset_index().groupby('index').sum()[0])\n",
    "\n",
    "trans_matrix_bin_counts = trans_matrix.groupby('distbin')['vol'].sum()\n",
    "\n",
    "\n",
    "fig, ax = plt.subplots(figsize=(15, 3))\n",
    "\n",
    "comp_bar(ax, bars=[synthpop_bin_counts, trans_matrix_bin_counts],\n",
    "             colors=((182/255,0/255,74/255), (241/255, 154/255, 0/255)),\n",
    "             bar_labels=['synthpop', 'trans_matrix'],\n",
    "             width=0.3,\n",
    "            #normalize=True\n",
    "        )\n",
    "\n",
    "ax.set_xticks(np.arange(len(trans_matrix_bin_counts)),distbins)\n",
    "ax.set_xlabel('distance bin')\n",
    "ax.set_ylabel('number of trips')\n",
    "plt.show()"
   ]
  },
  {
   "cell_type": "markdown",
   "id": "f88518ac",
   "metadata": {},
   "source": [
    "<a id='Grouping_agendas'></a>\n",
    "### Grouping agendas\n",
    "* Agendas are considered equivalent if they share the same activity chain and the same home zone.\n",
    "* Note that we could broaden the equivalence because the exact secondary purposes do not impact the spatialisation.\n",
    "* But it doesn't change a lot actually.\n",
    "* [back to summary](#summary)"
   ]
  },
  {
   "cell_type": "code",
   "execution_count": 8,
   "id": "91a481f2",
   "metadata": {},
   "outputs": [
    {
     "name": "stdout",
     "output_type": "stream",
     "text": [
      "17:30:30\tGrouping agendas...\n",
      "00:00:28\t569280 distinct agendas\n",
      "00:00:28\t283041 agents out of 1335786 (21.19%%) have empty agendas, we don't spatialise them and they have to be added at the end\n",
      "00:00:28\tWork complete !\n"
     ]
    }
   ],
   "source": [
    "c=Chrono('Grouping agendas...')\n",
    "synthpop['id_agent'] = np.arange(len(synthpop))\n",
    "\n",
    "agenda_cols = ['dep_0_motif'] + ['dep_{}_{}'.format(i, carac) for i in range(1, max_chain_len+1) \n",
    "               for carac in ['motif', 'time', 'distbin']]\n",
    "\n",
    "\n",
    "synthpop_grouped = (synthpop[(synthpop['chain_len']>0) & (synthpop['autonomy']>0)]\n",
    "                                # note that the fist condition should be enough\n",
    "                    .groupby(agenda_cols+['iris_or_commune'], dropna=False)\n",
    "                    .agg({'chain_len':'first',\n",
    "                          'gender'   :'count',\n",
    "                          'autonomy' :'first',\n",
    "                          'id_agent' : list})\n",
    "                    .rename(columns={'gender':'vol'}).reset_index())\n",
    "\n",
    "synthpop_empty_agenda = synthpop.loc[(synthpop['chain_len']==0) | (synthpop['autonomy']==0)].copy()\n",
    "\n",
    "c.write('{} distinct agendas'.format(len(synthpop_grouped)))\n",
    "c.write('{} agents out of {} ({:.2%}%) have empty agendas, we don\\'t spatialise them '\n",
    "        'and they have to be added at the end'.format(len(synthpop_empty_agenda), len(synthpop),\n",
    "                                                     len(synthpop_empty_agenda)/len(synthpop)))\n",
    "c.done()\n",
    "\n"
   ]
  },
  {
   "cell_type": "markdown",
   "id": "074d443b",
   "metadata": {},
   "source": [
    "<a id='preproc'></a>\n",
    "# Preparing df to dicts of arrays\n",
    "\n",
    "\n",
    "* we transform all pd.DataFrame to np.array, so we have to keep track of the numbering of the columns\n",
    "* <font color='red'>**v9:**     </font>\n",
    "    * <font color='red'>no mode cols</font>\n",
    "    * <font color='red'>there are distance bin cols instead</font>\n",
    "\n",
    "* [back to summary](#summary)"
   ]
  },
  {
   "cell_type": "markdown",
   "id": "847dbae0",
   "metadata": {},
   "source": [
    "### making sure we find the right columns"
   ]
  },
  {
   "cell_type": "code",
   "execution_count": 9,
   "id": "1115fa0f",
   "metadata": {},
   "outputs": [],
   "source": [
    "\n",
    "trans_matrix_arr = trans_matrix[['o', 'd', 't', 'proba_d', 'distbin']].values\n",
    "#trans_matrix_arr = trans_matrix[['o', 'd', 't', 'vol', 'distbin']].values\n",
    "o_col, d_col, t_col, probad_col, b_col = 0, 1, 2, 3, 4\n",
    "\n",
    "max_neighbor_rank = 20\n",
    "neighbor_cols = ['nearest_neighbor_{}'.format(i) for i in range(max_neighbor_rank)]\n",
    "iris_commune_arr = iris_commune[['iris_or_commune'] + neighbor_cols].values\n",
    "z_col, neighbor_0_col = 0, 1\n",
    "\n",
    "motif_col_names = ['dep_{}_motif'.format(i) for i in range(max_chain_len+1)]\n",
    "motif_cols = np.arange(len(motif_col_names), dtype=int)\n",
    "\n",
    "time_col_names = ['dep_{}_time'.format(i) for i in range(1, max_chain_len+1)]\n",
    "time_cols = np.arange(len(motif_col_names), len(motif_col_names)+len(time_col_names), dtype=int)\n",
    "\n",
    "distbin_col_names = ['dep_{}_distbin'.format(i) for i in range(1, max_chain_len+1)]\n",
    "distbin_cols = np.arange(len(motif_col_names)+len(time_col_names), \n",
    "                          len(motif_col_names)+len(time_col_names)+len(distbin_col_names), dtype=int)\n",
    "\n",
    "chain_len_col = len(motif_cols) + len(time_cols) + len(distbin_cols)\n",
    "home_col = chain_len_col + 1\n",
    "vol_col = home_col + 1\n",
    "autonomy_col = vol_col + 1"
   ]
  },
  {
   "cell_type": "markdown",
   "id": "ac09a167",
   "metadata": {},
   "source": [
    "### ztb_to_i\n",
    "* we slice our arrays into numba dicts but tuples are not accepted as keys in numba dicts\n",
    "* <font color='red'>**v9:** \n",
    "    * no mode\n",
    "    * there is a distance bin instead\n",
    "</font>\n",
    "* [back to summary](#summary)"
   ]
  },
  {
   "cell_type": "code",
   "execution_count": 10,
   "id": "d72f8bce",
   "metadata": {},
   "outputs": [],
   "source": [
    "@njit\n",
    "def ztb_to_i(z,t,b):\n",
    "    \"\"\"tuples (z,t,b) are not accepted as keys in numba dicts\"\"\"\n",
    "    return z*1000+t*10+b"
   ]
  },
  {
   "cell_type": "markdown",
   "id": "937ce6bc",
   "metadata": {},
   "source": [
    "### `create_trans_matrix_d_dict_numba`\n",
    "* transforming the transition matrix to dicts:\n",
    "* `d_list_dict`: dict of (origin, timestep, distance_bin): list of each possible destination\n",
    "* `proba_d_dict`: dict of (origin, timestep, distance_bin): list of probas for each possible destination\n",
    "* [back to summary](#summary)"
   ]
  },
  {
   "cell_type": "code",
   "execution_count": 11,
   "id": "ec950775",
   "metadata": {},
   "outputs": [
    {
     "name": "stderr",
     "output_type": "stream",
     "text": [
      "100%|█████████████████████████████████████████| 536/536 [00:10<00:00, 51.75it/s]\n"
     ]
    }
   ],
   "source": [
    "timesteps = trans_matrix['t'].unique()\n",
    "from numba.typed import Dict\n",
    "from numba.core import types\n",
    "\n",
    "float_array = types.float64[:]\n",
    "float_type = types.float64\n",
    "\n",
    "def create_trans_matrix_d_dict_numba(trans_matrix_arr):\n",
    "    \n",
    "    # Make dictionary\n",
    "    d_list_dict = Dict.empty(\n",
    "        key_type=float_type,\n",
    "        value_type=float_array,\n",
    "    )\n",
    "    proba_d_dict = Dict.empty(\n",
    "    key_type=float_type,\n",
    "    value_type=float_array\n",
    "    )\n",
    "    \n",
    "    for o in tqdm(np.unique(trans_matrix_arr[:,o_col])):\n",
    "        trans_matrix_sub_o = trans_matrix_arr[(trans_matrix_arr[:, o_col]==o)]\n",
    "        for t in timesteps:\n",
    "            trans_matrix_sub_ot = trans_matrix_sub_o[(trans_matrix_sub_o[:, t_col]==t)]\n",
    "            for b in range(len(distbins)):\n",
    "                trans_matrix_sub = trans_matrix_sub_ot[(trans_matrix_sub_ot[:,b_col]==b)].astype(np.float64)\n",
    "\n",
    "                k = ztb_to_i(o,t,b)\n",
    "                sort_ind = np.argsort(trans_matrix_sub[:,d_col])\n",
    "                \n",
    "                d_list_dict[k] = trans_matrix_sub[sort_ind, d_col]\n",
    "                proba_d_dict[k] = trans_matrix_sub[sort_ind, probad_col]\n",
    "        \n",
    "\n",
    "    return d_list_dict, proba_d_dict\n",
    "\n",
    "\n",
    "d_list_dict, proba_d_dict = create_trans_matrix_d_dict_numba(trans_matrix_arr)\n",
    "    "
   ]
  },
  {
   "cell_type": "markdown",
   "id": "767e8ffa",
   "metadata": {},
   "source": [
    "### `create_trans_matrix_o_dict_numba`\n",
    "* transforming the transition matrix to dicts:\n",
    "* `o_list_dict`: dict of (destination, timestep, distance_bin): list of each possible origin\n",
    "* `proba_o_dict`: dict of (destination, timestep, distance_bin): list of probas $P(d|o,t)$ for each possible origin\n",
    "* [back to summary](#summary)"
   ]
  },
  {
   "cell_type": "code",
   "execution_count": 12,
   "id": "52192acc",
   "metadata": {},
   "outputs": [
    {
     "name": "stderr",
     "output_type": "stream",
     "text": [
      "100%|█████████████████████████████████████████| 536/536 [00:09<00:00, 56.51it/s]\n"
     ]
    }
   ],
   "source": [
    "\n",
    "def create_trans_matrix_o_dict_numba(trans_matrix_arr):\n",
    "    \"\"\"\n",
    "    gives P(d|o,t,b) for all o\n",
    "    \"\"\"\n",
    "    # numba-fication of this does makes the notebook stop responding\n",
    "    \n",
    "    # Make dictionary\n",
    "    o_list_dict = Dict.empty(\n",
    "        key_type=float_type,\n",
    "        value_type=float_array,\n",
    "    )\n",
    "    proba_o_dict = Dict.empty(\n",
    "    key_type=float_type,\n",
    "    value_type=float_array\n",
    "    )\n",
    "    \n",
    "    for d in tqdm(np.unique(trans_matrix_arr[:,d_col])):\n",
    "        trans_matrix_sub_d = trans_matrix_arr[(trans_matrix_arr[:, d_col]==d)]\n",
    "        for t in timesteps:\n",
    "            trans_matrix_sub_dt = trans_matrix_sub_d[(trans_matrix_sub_d[:, t_col]==t)]\n",
    "            for b in range(len(distbins)):\n",
    "                trans_matrix_sub = trans_matrix_sub_dt[(trans_matrix_sub_dt[:,b_col]==b)].astype(np.float64)\n",
    "\n",
    "                k = ztb_to_i(d,t,b)\n",
    "                sort_ind = np.argsort(trans_matrix_sub[:,o_col])\n",
    "                \n",
    "                o_list_dict[k] = trans_matrix_sub[sort_ind, o_col]\n",
    "                \n",
    "                # note that sum(p(d|o,t)) over all o is not 1 but we normalize after.\n",
    "                proba_o_dict[k] = trans_matrix_sub[sort_ind, probad_col]\n",
    "        \n",
    "    return o_list_dict, proba_o_dict\n",
    "\n",
    "\n",
    "o_list_dict, proba_o_dict = create_trans_matrix_o_dict_numba(trans_matrix_arr)\n",
    "    "
   ]
  },
  {
   "cell_type": "markdown",
   "id": "7c900668",
   "metadata": {},
   "source": [
    "<a id='proba'></a>\n",
    "# Functions to query probas"
   ]
  },
  {
   "cell_type": "markdown",
   "id": "f269342f",
   "metadata": {},
   "source": [
    "### `up_and_down_explore`\n",
    "* To explore the other distbins when there is no trip found in the transition matrix for a particular (origin, timestep, distbin)\n",
    "* We explore first the demanded distbin, then the one above, then below, then 2 above, then 2 below...\n",
    "* We save this order in a dictionnary so we don't have to recompute it each time"
   ]
  },
  {
   "cell_type": "code",
   "execution_count": 13,
   "id": "0df6902d",
   "metadata": {},
   "outputs": [
    {
     "name": "stdout",
     "output_type": "stream",
     "text": [
      "Exploring all indices between 0 and 7\n",
      "Starting at 0: [0. 1. 2. 3. 4. 5. 6. 7.]\n",
      "Starting at 1: [1. 2. 0. 3. 4. 5. 6. 7.]\n",
      "Starting at 2: [2. 3. 1. 4. 0. 5. 6. 7.]\n",
      "Starting at 3: [3. 4. 2. 5. 1. 6. 0. 7.]\n",
      "Starting at 4: [4. 5. 3. 6. 2. 7. 1. 0.]\n",
      "Starting at 5: [5. 6. 4. 7. 3. 2. 1. 0.]\n",
      "Starting at 6: [6. 7. 5. 4. 3. 2. 1. 0.]\n",
      "Starting at 7: [7. 6. 5. 4. 3. 2. 1. 0.]\n"
     ]
    }
   ],
   "source": [
    "from utils_spatialize.up_and_down_explore import up_and_down_explore\n",
    "    \n",
    "distbins_paths = Dict.empty(key_type=float_type, value_type=float_array)\n",
    "\n",
    "print('Exploring all indices between 0 and {}'.format(len(distbins)-1))\n",
    "for d in range(len(distbins)):\n",
    "    print('Starting at {}: {}'.format(d, up_and_down_explore(d,0,len(distbins))))\n",
    "    distbins_paths[d] = up_and_down_explore(d,0,len(distbins))\n"
   ]
  },
  {
   "cell_type": "markdown",
   "id": "f7209c02",
   "metadata": {},
   "source": [
    "### `get_proba_o` and `get_proba_d`\n",
    "\n",
    "* [back to summary](#summary)"
   ]
  },
  {
   "cell_type": "code",
   "execution_count": 14,
   "id": "bc0ff4d3",
   "metadata": {},
   "outputs": [],
   "source": [
    "\n",
    "@njit\n",
    "def get_proba_o(o_list_dict, proba_o_dict, d, t, b):\n",
    "    \"\"\"\n",
    "    return proba of each o given d, t, b\n",
    "    d: destination\n",
    "    t: timestep\n",
    "    b: distance bin\n",
    "    \n",
    "    If no origin exist for this (d,t,b), look into the nearest neighbor of d\n",
    "    iteratively as long as we didn't exhaust the list of nearest neighbors.\n",
    "    \"\"\"\n",
    "    key = ztb_to_i(d,t,b)\n",
    "    o_list = o_list_dict.get(key)\n",
    "    \n",
    "    # getting the transitions from nearest zone instead\n",
    "    if (o_list is None) or (len(o_list)==0):\n",
    "        neighbor_col = neighbor_0_col\n",
    "        z_row = iris_commune_arr[iris_commune_arr[:, z_col]==d]\n",
    "        while (neighbor_col<z_row.shape[1]) and ((o_list is None) or (len(o_list)==0)) :\n",
    "            nn = z_row[:, neighbor_col].item()\n",
    "            key = ztb_to_i(nn,t,b)\n",
    "            o_list = o_list_dict.get(key)\n",
    "            neighbor_col += 1\n",
    "        if neighbor_col==z_row.shape[1]:\n",
    "            return np.empty(shape=0), np.empty(shape=0)\n",
    "            # raise ValueError('Asked for all the neighbors but no transition found going to (d,t,b)=({:.0f},{:.0f},{:.0f})'.format(d,t,b))\n",
    "            \n",
    "    proba_o = proba_o_dict[key]\n",
    "    \n",
    "    return o_list, proba_o\n",
    "\n",
    "\n",
    "@njit\n",
    "def get_proba_o_binsearch(row, locations, o_list_dict, proba_o_dict, \n",
    "                            dim, time_cols, distbin_cols, distbins_paths):\n",
    "    \"\"\"\n",
    "    additional layer to search proba_o when nothing in the target distance bin is found\n",
    "    \"\"\"\n",
    "    \n",
    "    time_col = time_cols[dim]\n",
    "    distbin_col = distbin_cols[dim]\n",
    "    distbins_to_explore = distbins_paths[row[distbin_col]]\n",
    "    \n",
    "    for distbin in distbins_to_explore:\n",
    "        o_list, proba_o = get_proba_o(o_list_dict, proba_o_dict,\n",
    "                          locations[dim+1],  # destination\n",
    "                          row[time_col], # curr timestep\n",
    "                          distbin,\n",
    "                         )\n",
    "        if len(o_list)>0:\n",
    "            return o_list, proba_o\n",
    "\n",
    "@njit\n",
    "def get_proba_d(d_list_dict, proba_d_dict, o, t, b):\n",
    "    \"\"\"\n",
    "    return proba of each d given o, t, b\n",
    "    o: origin\n",
    "    t: timestep\n",
    "    b: distance bin\n",
    "    \n",
    "    If no destination exist for this (o,t,b), look into the nearest neighbor of o\n",
    "    iteratively as long as we didn't exhaust the list of nearest neighbors.\n",
    "    \"\"\"\n",
    "    key = ztb_to_i(o,t,b)\n",
    "    d_list = d_list_dict.get(key)\n",
    "    \n",
    "    # getting the transitions from nearest zone instead\n",
    "    if d_list is None or len(d_list)==0:\n",
    "        neighbor_col = neighbor_0_col\n",
    "        z_row = iris_commune_arr[iris_commune_arr[:, z_col]==o]\n",
    "        while (neighbor_col<z_row.shape[1]) and ((d_list is None) or (len(d_list)==0)):\n",
    "            nn = z_row[:, neighbor_col].item()\n",
    "            key = ztb_to_i(nn,t,b)\n",
    "            d_list = d_list_dict.get(key)\n",
    "            neighbor_col += 1\n",
    "        if neighbor_col==z_row.shape[1]:\n",
    "            return np.empty(shape=0), np.empty(shape=0)         \n",
    "        #    raise ValueError('Asked for all the neighbors but no transition found starting from (o,t,b)=({:.0f},{:.0f},{:.0f})'.format(o,t,b))\n",
    "            \n",
    "    proba_d = proba_d_dict[key]\n",
    "    return d_list, proba_d\n",
    "\n",
    "\n",
    "@njit\n",
    "def get_proba_d_binsearch(row, locations, d_list_dict, proba_d_dict, \n",
    "                            dim, time_cols, distbin_cols, distbins_paths):\n",
    "    \"\"\"\n",
    "    additional layer to search proba_d when nothing in the target distance bin is found\n",
    "    \"\"\"\n",
    "    time_prev_col = time_cols[dim-1]\n",
    "    distbin_prev_col = distbin_cols[dim-1]\n",
    "    \n",
    "    distbins_to_explore_prev = distbins_paths[row[distbin_prev_col]]\n",
    "    for distbin in distbins_to_explore_prev:\n",
    "        d_list, proba_d = get_proba_d(d_list_dict, proba_d_dict,\n",
    "                              locations[dim-1], # origin\n",
    "                              row[time_prev_col], # prev timestep\n",
    "                              distbin,\n",
    "                             )\n",
    "        if len(d_list)>0:\n",
    "            return d_list, proba_d"
   ]
  },
  {
   "cell_type": "markdown",
   "id": "241c6b3b",
   "metadata": {},
   "source": [
    "### `get_proba_z`\n",
    "* is proportional to `proba_o` * `proba_d`\n",
    "* Is used if the location `z` has no linked states.\n",
    "* [back to summary](#summary)"
   ]
  },
  {
   "cell_type": "code",
   "execution_count": 15,
   "id": "5ab4a5ab",
   "metadata": {},
   "outputs": [],
   "source": [
    "@njit\n",
    "def join_odz(o_list, proba_o, d_list, proba_d, eps=1e-10):\n",
    "    \"\"\"joining proba of o with proba of d\"\"\"\n",
    "    z_arr = npjoin(o_list, proba_o, d_list, proba_d, eps)\n",
    "    z_list = z_arr[:,0]\n",
    "    \n",
    "    new_probao_col = 1\n",
    "    new_probad_col = 2\n",
    "    proba_z = z_arr[:, new_probao_col] * z_arr[:, new_probad_col]\n",
    "    return z_list, proba_z\n",
    "    \n",
    "@njit\n",
    "def get_proba_z(row, locations, o_list_dict, proba_o_dict, \n",
    "                                d_list_dict, proba_d_dict, \n",
    "                dim, time_cols, distbin_cols, distbins_paths):\n",
    "    \n",
    "    if dim==0:  # first place may not be home\n",
    "        z_list, proba_z = get_proba_o_binsearch(row, locations, o_list_dict, proba_o_dict, \n",
    "                            dim, time_cols, distbin_cols, distbins_paths)\n",
    "\n",
    "    elif dim==len(locations)-1:  # last place may not be home\n",
    "        z_list, proba_z = get_proba_d_binsearch(row, locations, d_list_dict, proba_d_dict, \n",
    "                            dim, time_cols, distbin_cols, distbins_paths)\n",
    "\n",
    "    else:\n",
    "        o_list, proba_o = get_proba_o_binsearch(row, locations, o_list_dict, proba_o_dict, \n",
    "                            dim, time_cols, distbin_cols, distbins_paths)\n",
    "        d_list, proba_d = get_proba_d_binsearch(row, locations, d_list_dict, proba_d_dict, \n",
    "                            dim, time_cols, distbin_cols, distbins_paths)\n",
    "        \n",
    "        z_list, proba_z = join_odz(o_list, proba_o, d_list, proba_d, eps=1e-10)\n",
    "\n",
    "    return z_list, proba_z\n"
   ]
  },
  {
   "cell_type": "markdown",
   "id": "74d2fbe7",
   "metadata": {},
   "source": [
    "## Taking linksets into account\n",
    "* A location Z depends on the previous location, on the next, and on the previous and next of all the activities that have the same primary purpose"
   ]
  },
  {
   "cell_type": "code",
   "execution_count": 16,
   "id": "191be411",
   "metadata": {},
   "outputs": [
    {
     "name": "stdout",
     "output_type": "stream",
     "text": [
      "activity purposes: [0. 2. 2. 3. 0.]\n",
      "link sets : [0 1 1 2 0]\n",
      "activities appearing more than once: [0 1]\n"
     ]
    }
   ],
   "source": [
    "@njit\n",
    "def get_link_mask(purpose_row):\n",
    "    \"\"\"\n",
    "    input : a list of activity purposes\n",
    "    return : a list of ids for linksets. \n",
    "        Activities belonging to the same linkset are expected to have the same location.\n",
    "    \"\"\"\n",
    "    linkset_ids = np.zeros(shape=len(purpose_row), dtype=np.int32)\n",
    "    max_state_id = 0\n",
    "    purpose_visited = -np.ones(len(purpose_row))  # stash list\n",
    "    purpose_to_id = -np.ones(len(purpose_row))  # dict list\n",
    "    for i, p in enumerate(purpose_row.astype(np.int32)):\n",
    "        if p in purpose_visited:\n",
    "            linkset_ids[i] = purpose_to_id[p]\n",
    "        else:\n",
    "            if (p>=0) and (p<=2):  # home, work or study\n",
    "                purpose_visited[max_state_id] = p\n",
    "                purpose_to_id[p] = max_state_id\n",
    "                linkset_ids[i] = max_state_id\n",
    "                max_state_id += 1\n",
    "            else:\n",
    "                linkset_ids[i] = max_state_id\n",
    "                max_state_id += 1\n",
    "    return linkset_ids\n",
    "\n",
    "@njit\n",
    "def get_non_singleton_linksets(link_mask):\n",
    "    return np.array([i for i in np.unique(link_mask) if (link_mask==i).sum()>1])\n",
    "\n",
    "purposes_example = np.array([0.,2.,2.,3.,0.])\n",
    "print('activity purposes: {}'.format(purposes_example))\n",
    "lm = get_link_mask(purposes_example)\n",
    "print('link sets : {}'.format(lm))\n",
    "print('activities appearing more than once: {}'.format(get_non_singleton_linksets(lm)))"
   ]
  },
  {
   "cell_type": "code",
   "execution_count": 17,
   "id": "4638d53e",
   "metadata": {},
   "outputs": [],
   "source": [
    "\n",
    "@njit\n",
    "def get_proba_z_linked(row, locations, o_list_dict, proba_o_dict, \n",
    "                           d_list_dict, proba_d_dict, \n",
    "                            dim, time_cols, distbin_cols, chain_len, distbins_paths):\n",
    "    \"\"\"\n",
    "    get_proba_z but handles the linked states.\n",
    "    /!\\ Assumes linked states NEVER follow each others.\n",
    "    \"\"\"\n",
    "    link_mask = get_link_mask(row[:chain_len])\n",
    "    non_singleton_linksets = get_non_singleton_linksets(link_mask)\n",
    "\n",
    "    if link_mask[dim] in non_singleton_linksets:\n",
    "        #dict (neighboring linkset):(id of each possible zone for current linkset)\n",
    "        list_linkset_dict = Dict.empty(key_type=types.int32, value_type=float_array)\n",
    "\n",
    "        #dict (neighboring linkset):(proba of each possible zone for current linkset)\n",
    "        proba_linkset_dict = Dict.empty(key_type=types.int32, value_type=float_array)\n",
    "        \n",
    "        # number of factors in common with each linkset\n",
    "        exponant_linksets = np.zeros(link_mask.max()+1)\n",
    "\n",
    "        for dim_linked in np.where(row[:chain_len]==row[dim])[0]:\n",
    "            #print(dim_linked)\n",
    "            if dim_linked<chain_len-1:\n",
    "                #print('getting proba_o')\n",
    "                o_list_linked, proba_o_linked = get_proba_o_binsearch(row, locations, o_list_dict, proba_o_dict, \n",
    "                                    dim_linked, time_cols, distbin_cols, distbins_paths)\n",
    "\n",
    "                #print(o_list_linked)\n",
    "                next_purpose = link_mask[dim_linked+1]\n",
    "                exponant_linksets[next_purpose] += 1\n",
    "                if next_purpose in proba_linkset_dict:\n",
    "                    res_list, proba_res = join_odz(list_linkset_dict[next_purpose], \n",
    "                                                   proba_linkset_dict[next_purpose],\n",
    "                                                   o_list_linked, \n",
    "                                                   proba_o_linked)\n",
    "                    list_linkset_dict[next_purpose] = res_list\n",
    "                    proba_linkset_dict[next_purpose] = proba_res\n",
    "                else:\n",
    "                    list_linkset_dict[next_purpose] = o_list_linked\n",
    "                    proba_linkset_dict[next_purpose] = proba_o_linked\n",
    "                    \n",
    "            if dim_linked>0:\n",
    "                #print('getting proba_d')\n",
    "                d_list_linked, proba_d_linked = get_proba_d_binsearch(row, locations, d_list_dict, proba_d_dict, \n",
    "                                    dim_linked, time_cols, distbin_cols, distbins_paths)\n",
    "\n",
    "                #print(d_list_linked)\n",
    "                prev_purpose = link_mask[dim_linked-1]\n",
    "                exponant_linksets[prev_purpose] += 1\n",
    "                if prev_purpose in proba_linkset_dict:\n",
    "                    res_list, proba_res = join_odz(list_linkset_dict[prev_purpose], \n",
    "                                                   proba_linkset_dict[prev_purpose],\n",
    "                                                   o_list_linked, \n",
    "                                                   proba_o_linked)\n",
    "                    list_linkset_dict[prev_purpose] = res_list\n",
    "                    proba_linkset_dict[prev_purpose] = proba_res\n",
    "                else:\n",
    "                    list_linkset_dict[prev_purpose] = d_list_linked\n",
    "                    proba_linkset_dict[prev_purpose] = proba_d_linked\n",
    "                    #print(proba_linkset_dict)\n",
    "                    \n",
    "            # count double transitions that we see in factor graphs\n",
    "            # (a bit optional, doesn't change much the result anyway)\n",
    "            if (dim_linked+2<len(link_mask)) and (link_mask[dim_linked+2]==link_mask[dim_linked]):\n",
    "                if dim_linked>0 and (link_mask[dim_linked-1]==link_mask[dim_linked+1]):\n",
    "                    exponant_linksets[next_purpose] += 1\n",
    "                    res_list, proba_res = join_odz(list_linkset_dict[next_purpose], proba_linkset_dict[next_purpose],\n",
    "                                               o_list_linked, proba_o_linked)\n",
    "                    list_linkset_dict[next_purpose] = res_list\n",
    "                    proba_linkset_dict[next_purpose] = proba_res\n",
    "                    \n",
    "            if (dim_linked-2>=0) and (link_mask[dim_linked-2]==link_mask[dim_linked]):\n",
    "                if dim_linked+1<len(link_mask) and (link_mask[dim_linked-1]==link_mask[dim_linked+1]):\n",
    "                    exponant_linksets[prev_purpose] += 1\n",
    "                    res_list, proba_res = join_odz(list_linkset_dict[prev_purpose], proba_linkset_dict[prev_purpose],\n",
    "                                               o_list_linked, proba_o_linked)\n",
    "                    list_linkset_dict[prev_purpose] = res_list\n",
    "                    proba_linkset_dict[prev_purpose] = proba_res\n",
    "            #####\n",
    "            \n",
    "        z_list, proba_z = np.zeros(shape=0), np.zeros(shape=0)\n",
    "        for i in range(len(exponant_linksets)):\n",
    "            if exponant_linksets[i]>0:\n",
    "                proba_linkset_dict[i] = np.power(proba_linkset_dict[i], 1/exponant_linksets[i])\n",
    "                z_list, proba_z = join_odz(list_linkset_dict[i], proba_linkset_dict[i], z_list, proba_z)\n",
    "\n",
    "    else: # linkset is singleton\n",
    "\n",
    "        z_list, proba_z = get_proba_z(row, locations, o_list_dict, proba_o_dict, \n",
    "                                d_list_dict, proba_d_dict, \n",
    "                dim, time_cols, distbin_cols, distbins_paths)\n",
    "\n",
    "        # if prev and next dims are in the same linkset:\n",
    "        if dim>0 and dim<chain_len-1 and (row[dim-1]==row[dim+1]) and (row[dim-1]>=0) and (row[dim-1]<=2):\n",
    "            proba_z = np.sqrt(proba_z)\n",
    "\n",
    "    return z_list, proba_z"
   ]
  },
  {
   "cell_type": "markdown",
   "id": "abe25690",
   "metadata": {},
   "source": [
    "<a id='running'></a>\n",
    "# Running spatialisation\n",
    "* [back to summary](#summary)"
   ]
  },
  {
   "cell_type": "code",
   "execution_count": 18,
   "id": "81ec303a",
   "metadata": {},
   "outputs": [],
   "source": [
    "int_type = types.int8\n",
    "int_array = types.int8[:]\n",
    "\n",
    "#@njit(parallel=True)\n",
    "def spatialize(synthpop_grouped_sub_arr, nb_warm_iter_dict, nb_cooldown_iter_dict, \n",
    "              o_list_dict, proba_o_dict, d_list_dict, proba_d_dict, distbins_paths,\n",
    "              progress_proxy\n",
    "              ):\n",
    "    locations_sampled = np.zeros(shape=(int(synthpop_grouped_sub_arr[:, vol_col].sum()), max_chain_len+1))\n",
    "    cum_vols = synthpop_grouped_sub_arr[:, vol_col].cumsum()\n",
    "\n",
    "    #nb_distbin_search_arr = np.zeros(shape=len(locations_sampled))\n",
    "    #nb_good_distbin_arr = np.zeros(shape=len(locations_sampled))\n",
    "    #nb_distbin_search_tot = 0\n",
    "    #nb_good_distbin_tot = 0\n",
    "        \n",
    "        \n",
    "    \n",
    "    #for irow in prange(len(synthpop_grouped_sub_arr)):\n",
    "    for irow in range(len(synthpop_grouped_sub_arr)):\n",
    "        row = synthpop_grouped_sub_arr[irow]\n",
    "        # Getting max autonomy of segments of the agenda\n",
    "        autonomy = int(row[autonomy_col])\n",
    "        nb_iter = int(nb_warm_iter_dict[autonomy]+row[vol_col]*(nb_cooldown_iter_dict[autonomy] + 1))\n",
    "    \n",
    "        chain_len = int(row[chain_len_col]+1)  # chain_len_col should be called nb_trips_col\n",
    "\n",
    "        locations = np.random.choice(a=iris_commune_arr[:, z_col], size=(chain_len))\n",
    "        \n",
    "        # first cols are about motive\n",
    "        home_mask = (row[:chain_len]==0)\n",
    "\n",
    "        #Try something smart to not have to browse the entire agenda each time we want to fetch linked states:\n",
    "        #link_dict = Dict.empty(key_type=int_type, value_type=int_array)\n",
    "        #for i, motive in enumerate(row[:chain_len]):\n",
    "        #    if i not in link_dict:\n",
    "        #        if motive==1 or motive==2:\n",
    "        #            link_dict[i] = np.where(row[:chain_len]==motive)[0].astype(np.int8)\n",
    "        #        elif motive != 0:\n",
    "        #            link_dict[i] = i\n",
    "        \n",
    "        locations[home_mask] = row[home_col]\n",
    "\n",
    "        draw_mask = ~home_mask\n",
    "        draw_indices = draw_mask.nonzero()[0] # indices we will have to draw in MCMC\n",
    "\n",
    "\n",
    "        # Sampling each dimension in order, this way we make sure all segments are drawn \n",
    "        # One iteration is drawing all states that have to be drawn, in order.\n",
    "        # We could take a random order but then we wouldn't be sure that all states have been drawn\n",
    "        # in long segments for chains that have a long segment and a short one.\n",
    "        dim_to_draw = nptile(draw_indices, nb_iter)\n",
    "\n",
    "        # i_sample: index of where we save the trajectory we draw in locations_sampled.\n",
    "        # Each trajectory can concern several agents, so we may have to sample it more than once.\n",
    "        # So each trajectory has an assigned slot for the first sample, and the following samples\n",
    "        # are saved in the follow rows.\n",
    "        if irow==0:\n",
    "            i_sample=0\n",
    "        else:\n",
    "            i_sample = int(cum_vols[irow-1])\n",
    "\n",
    "        for i, dim in enumerate(dim_to_draw):\n",
    "            z_list, proba_z = get_proba_z_linked(row, locations, \n",
    "                                                                                     o_list_dict, proba_o_dict, \n",
    "                                                                                     d_list_dict, proba_d_dict, \n",
    "                                                  dim, time_cols, distbin_cols, chain_len, distbins_paths)\n",
    "            \n",
    "            \n",
    "            proba_z = proba_z/proba_z.sum()\n",
    "            tirage = npchoice(z_list, proba_z)\n",
    "\n",
    "            if row[dim]==1 or row[dim]==2:\n",
    "                for linked_dim in np.where(row[:chain_len]==row[dim])[0]:\n",
    "                    locations[linked_dim] = tirage\n",
    "            else:\n",
    "                locations[dim] = tirage\n",
    "            \n",
    "            #print('dim {} : {}'.format(dim, tirage))\n",
    "            ## Sampling once as soon as we finished warmup, and once each time the cooldown is finished\n",
    "            if ((i>=nb_warm_iter_dict[autonomy]*len(draw_indices)) and \n",
    "             (i-len(draw_indices)*nb_warm_iter_dict[autonomy]) % (len(draw_indices)*(nb_cooldown_iter_dict[autonomy] + 1)) == 0):\n",
    "                locations_sampled[i_sample, :chain_len] = locations\n",
    "                \n",
    "                #nb_distbin_search_arr[i_sample] = nb_distbin_search\n",
    "                #nb_good_distbin_arr[i_sample] = nb_good_distbin\n",
    "                \n",
    "                i_sample+=1\n",
    "                # i_sample+=1 should prbly be replaced by something like:\n",
    "                # i_sample = int(cum_vols[irow-1]) + (i-len(draw_indices)*nb_warm_iter_dict[autonomy]) // (len(draw_indices)*(nb_cooldown_iter_dict[autonomy] + 1))\n",
    "                \n",
    "        progress_proxy.update(1)\n",
    "\n",
    "    return locations_sampled\n"
   ]
  },
  {
   "cell_type": "code",
   "execution_count": 19,
   "id": "449e3129",
   "metadata": {},
   "outputs": [],
   "source": [
    "# got a parallelization bug that gives us empty agendas for the ones that are not the first of their groups\n",
    "# so ugly hack while I debug it\n",
    "# edit: probably it's the line i_sample+=1 that bugs in parallelisation\n",
    "\n",
    "synthpop_grouped_sub = synthpop_grouped.explode('id_agent')\n",
    "synthpop_grouped_sub['vol']=1\n",
    "\n",
    "synthpop_grouped_sub_arr = (synthpop_grouped_sub[motif_col_names+\n",
    "                                                time_col_names+\n",
    "                                                distbin_col_names+\n",
    "                                                ['chain_len', \n",
    "                                                 'iris_or_commune',\n",
    "                                                 'vol',\n",
    "                                                 'autonomy']]#.sample(frac=0.01)\n",
    "                                        .values)"
   ]
  },
  {
   "cell_type": "code",
   "execution_count": 20,
   "id": "aab05394",
   "metadata": {
    "scrolled": false
   },
   "outputs": [
    {
     "name": "stdout",
     "output_type": "stream",
     "text": [
      "17:31:30\tRunning...\n"
     ]
    },
    {
     "data": {
      "application/vnd.jupyter.widget-view+json": {
       "model_id": "090adfa025f141c8a16f0abd5bc19c97",
       "version_major": 2,
       "version_minor": 0
      },
      "text/plain": [
       "  0%|                                               | 0/1052745 [00:00<?, ?it/s]"
      ]
     },
     "metadata": {},
     "output_type": "display_data"
    },
    {
     "name": "stderr",
     "output_type": "stream",
     "text": [
      "/var/folders/4m/96kct6fd1vl7ty8sc_mpj7kw0000gp/T/ipykernel_14327/192134969.py:85: NumbaTypeSafetyWarning: \u001b[1m\u001b[1m\u001b[1munsafe cast from int64 to int32. Precision may be lost.\u001b[0m\u001b[0m\u001b[0m\n",
      "  proba_linkset_dict[i] = np.power(proba_linkset_dict[i], 1/exponant_linksets[i])\n",
      "/opt/miniconda3/lib/python3.9/site-packages/numba_progress/progress.py:104: RuntimeWarning: overflow encountered in ulong_scalars\n",
      "  diff = value - self._last_value\n"
     ]
    },
    {
     "name": "stdout",
     "output_type": "stream",
     "text": [
      "05:22:51\tSaving...\n",
      "05:23:03\tWork complete !\n"
     ]
    }
   ],
   "source": [
    "\n",
    "\n",
    "c=Chrono('Running...')\n",
    "with ProgressBar(total=len(synthpop_grouped_sub_arr)) as progress:\n",
    "    locations_sampled = spatialize(synthpop_grouped_sub_arr, \n",
    "                                   nb_warm_iter_dict, \n",
    "                                   nb_cooldown_iter_dict,\n",
    "                                   o_list_dict, proba_o_dict, \n",
    "                                   d_list_dict, proba_d_dict, \n",
    "                                   distbins_paths,\n",
    "                                   progress\n",
    "                                  )\n",
    "\n",
    "#c.write('Saving...')\n",
    "#np.savetxt('../../outdata/location_sampled_v9h6.csv', locations_sampled)\n",
    "#c.done()\n"
   ]
  },
  {
   "cell_type": "markdown",
   "id": "d0a0a79f",
   "metadata": {},
   "source": [
    "<a id='sanity'></a>\n",
    "# Sanity checks\n",
    "* [back to summary](#summary)"
   ]
  },
  {
   "cell_type": "markdown",
   "id": "856a35e4",
   "metadata": {},
   "source": [
    "### Locations exist in gis"
   ]
  },
  {
   "cell_type": "code",
   "execution_count": 21,
   "id": "c474322e",
   "metadata": {},
   "outputs": [],
   "source": [
    "gis = np.concatenate([iris_commune['iris_or_commune'].values, [0]])\n",
    "bad_location_mask = ~np.isin(locations_sampled, gis)\n",
    "assert bad_location_mask.sum() == 0"
   ]
  },
  {
   "cell_type": "markdown",
   "id": "1ab8e1df",
   "metadata": {},
   "source": [
    "### No trajectory has failed to be attributed something"
   ]
  },
  {
   "cell_type": "code",
   "execution_count": 22,
   "id": "02d30bd7",
   "metadata": {},
   "outputs": [],
   "source": [
    "assert np.all(locations_sampled==0,axis=1).sum()==0, 'some locations are set to 0'"
   ]
  },
  {
   "cell_type": "markdown",
   "id": "b8c96477",
   "metadata": {},
   "source": [
    "* Right amount of chains of each len. \n",
    "* **Note:** Offset of 1 in chain_len is explained because `locations_sampled` also has a column for the location 0."
   ]
  },
  {
   "cell_type": "code",
   "execution_count": 23,
   "id": "e77a4660",
   "metadata": {},
   "outputs": [
    {
     "name": "stdout",
     "output_type": "stream",
     "text": [
      "Distribution of chain_len in synthpop:\n",
      "\n",
      "chain_len\n",
      "0     283041\n",
      "1      21920\n",
      "2     555982\n",
      "3     105410\n",
      "4     260108\n",
      "5      55532\n",
      "6      40492\n",
      "7       9446\n",
      "8       2962\n",
      "9        493\n",
      "10       400\n",
      "dtype: int64\n",
      "\n",
      "Distribution of len of location chains sampled:\n",
      "nb_locations\n",
      "2      21920\n",
      "3     555982\n",
      "4     105410\n",
      "5     260108\n",
      "6      55532\n",
      "7      40492\n",
      "8       9446\n",
      "9       2962\n",
      "10       493\n",
      "11       400\n",
      "dtype: int64\n"
     ]
    }
   ],
   "source": [
    "print('Distribution of chain_len in synthpop:\\n')\n",
    "print(synthpop.groupby('chain_len').size())\n",
    "print('\\nDistribution of len of location chains sampled:')\n",
    "chain_len_locations = np.sum((locations_sampled!=0),axis=1)\n",
    "print(pd.DataFrame({'nb_locations':chain_len_locations}).groupby('nb_locations').size())"
   ]
  },
  {
   "cell_type": "markdown",
   "id": "0a2f3d87",
   "metadata": {},
   "source": [
    "* But the order is wrong !\n",
    "* Order seems consistent with the order of `synthpop_grouped`\n",
    "* So it's the groupby that messed up our order"
   ]
  },
  {
   "cell_type": "code",
   "execution_count": 24,
   "id": "6bfb9fd2",
   "metadata": {},
   "outputs": [
    {
     "name": "stdout",
     "output_type": "stream",
     "text": [
      "Fraction of consistent chain len between synthpop_grouped and location chains sampled:\n",
      "100%\n"
     ]
    }
   ],
   "source": [
    "print('Fraction of consistent chain len between synthpop_grouped and location chains sampled:')\n",
    "print('{:.0f}%'.format(100*(np.repeat(synthpop_grouped['chain_len'], synthpop_grouped['vol'])==chain_len_locations-1).mean()))"
   ]
  },
  {
   "cell_type": "markdown",
   "id": "10d148e7",
   "metadata": {},
   "source": [
    "### Joining agendas with an ad hoc key\n",
    "* [back to summary](#summary)"
   ]
  },
  {
   "cell_type": "code",
   "execution_count": 25,
   "id": "ce9b1098",
   "metadata": {},
   "outputs": [],
   "source": [
    "# 00:00:02\n",
    "\n",
    "id_agent = (synthpop_grouped['id_agent'].explode()).values\n",
    "\n",
    "location_df = pd.DataFrame(locations_sampled, columns=['dep_{}_zone'.format(i) for i in range(max_chain_len+1)])\n",
    "location_df['id_agent'] = id_agent\n",
    "\n",
    "synthpop_sampled = (synthpop\n",
    "                    .drop(columns=['dep_{}_zone'.format(i) for i in range(max_chain_len+1)])\n",
    "                    .merge(location_df, on='id_agent'))\n",
    "\n",
    "for i in range(1, max_chain_len+1):\n",
    "    synthpop_sampled['dep_{}_distbin'.format(i)] = pd.cut(synthpop_sampled['dep_{}_l2'.format(i)], \n",
    "                                                  bins=np.concatenate([distbins, [np.inf]]),\n",
    "                                                    include_lowest = True,\n",
    "                                                  labels=range(len(distbins))).astype(float)"
   ]
  },
  {
   "cell_type": "markdown",
   "id": "3367560a",
   "metadata": {},
   "source": [
    "* Check that we have no doubles or disappearing agent in the merge:"
   ]
  },
  {
   "cell_type": "code",
   "execution_count": 26,
   "id": "faf9e4d3",
   "metadata": {},
   "outputs": [
    {
     "name": "stdout",
     "output_type": "stream",
     "text": [
      "len of synthpop: \t 1335786\n",
      "len of location chains:  1052745\n",
      "len of synthpop merged : 1052745\n"
     ]
    }
   ],
   "source": [
    "print('len of synthpop: \\t {}'.format(len(synthpop)))\n",
    "print('len of location chains:  {}'.format(len(locations_sampled)))\n",
    "print('len of synthpop merged : {}'.format(len(synthpop_sampled)))"
   ]
  },
  {
   "cell_type": "markdown",
   "id": "1ab9d947",
   "metadata": {},
   "source": [
    "* Static trajectories"
   ]
  },
  {
   "cell_type": "code",
   "execution_count": 27,
   "id": "59774eff",
   "metadata": {},
   "outputs": [
    {
     "name": "stdout",
     "output_type": "stream",
     "text": [
      "28.54% of agents don't move at all\n"
     ]
    }
   ],
   "source": [
    "zone_cols = ['dep_{}_zone'.format(i) for i in range(max_chain_len+1)]\n",
    "synthpop[zone_cols] = synthpop[zone_cols].fillna(0)\n",
    "synthpop_locations_sampled = synthpop[zone_cols].values\n",
    "moved = (synthpop_locations_sampled[:,1:] != synthpop_locations_sampled[:,:-1])\n",
    "padding = synthpop_locations_sampled[:,1:]==0\n",
    "static_traj = (~(moved & ~padding)).all(axis=1)\n",
    "print('{:.2f}% of agents don\\'t move at all'.format(100*static_traj.mean()))"
   ]
  },
  {
   "cell_type": "code",
   "execution_count": 28,
   "id": "0d21128d",
   "metadata": {},
   "outputs": [
    {
     "data": {
      "text/plain": [
       "0"
      ]
     },
     "execution_count": 28,
     "metadata": {},
     "output_type": "execute_result"
    }
   ],
   "source": [
    "bad_location_mask = ~np.isin(synthpop_sampled[zone_cols].values, gis)\n",
    "synthpop_sampled[zone_cols].values[bad_location_mask]\n",
    "bad_location_mask.sum()"
   ]
  },
  {
   "cell_type": "markdown",
   "id": "65f53f4e",
   "metadata": {},
   "source": [
    "<a id='add_empty'></a>\n",
    "# Adding empty agendas\n",
    "* They have been removed from the dataset at the beginning\n",
    "* Now put them back\n",
    "* [back to summary](#summary)"
   ]
  },
  {
   "cell_type": "code",
   "execution_count": 29,
   "id": "f8e8b055",
   "metadata": {},
   "outputs": [
    {
     "data": {
      "text/html": [
       "<div>\n",
       "<style scoped>\n",
       "    .dataframe tbody tr th:only-of-type {\n",
       "        vertical-align: middle;\n",
       "    }\n",
       "\n",
       "    .dataframe tbody tr th {\n",
       "        vertical-align: top;\n",
       "    }\n",
       "\n",
       "    .dataframe thead th {\n",
       "        text-align: right;\n",
       "    }\n",
       "</style>\n",
       "<table border=\"1\" class=\"dataframe\">\n",
       "  <thead>\n",
       "    <tr style=\"text-align: right;\">\n",
       "      <th></th>\n",
       "      <th>dep_1_distbin</th>\n",
       "      <th>dep_2_distbin</th>\n",
       "      <th>dep_3_distbin</th>\n",
       "      <th>dep_4_distbin</th>\n",
       "      <th>dep_5_distbin</th>\n",
       "      <th>dep_6_distbin</th>\n",
       "      <th>dep_7_distbin</th>\n",
       "      <th>dep_8_distbin</th>\n",
       "      <th>dep_9_distbin</th>\n",
       "      <th>dep_10_distbin</th>\n",
       "    </tr>\n",
       "  </thead>\n",
       "  <tbody>\n",
       "  </tbody>\n",
       "</table>\n",
       "</div>"
      ],
      "text/plain": [
       "Empty DataFrame\n",
       "Columns: [dep_1_distbin, dep_2_distbin, dep_3_distbin, dep_4_distbin, dep_5_distbin, dep_6_distbin, dep_7_distbin, dep_8_distbin, dep_9_distbin, dep_10_distbin]\n",
       "Index: []"
      ]
     },
     "execution_count": 29,
     "metadata": {},
     "output_type": "execute_result"
    }
   ],
   "source": [
    "synthpop_sampled.iloc[np.all(locations_sampled==0,axis=1)][distbin_col_names]"
   ]
  },
  {
   "cell_type": "code",
   "execution_count": 30,
   "id": "6793dfde",
   "metadata": {},
   "outputs": [],
   "source": [
    "for i in range(max_chain_len+1):\n",
    "    synthpop_empty_agenda['dep_{}_zone'.format(i)] = 0\n",
    "synthpop_sampled = pd.concat([synthpop_sampled, synthpop_empty_agenda])"
   ]
  },
  {
   "cell_type": "code",
   "execution_count": 31,
   "id": "2d14f549",
   "metadata": {},
   "outputs": [
    {
     "name": "stdout",
     "output_type": "stream",
     "text": [
      "len of synthpop merged : 1335786\n"
     ]
    }
   ],
   "source": [
    "print('len of synthpop merged : {}'.format(len(synthpop_sampled)))"
   ]
  },
  {
   "cell_type": "code",
   "execution_count": 32,
   "id": "4c55435e",
   "metadata": {},
   "outputs": [
    {
     "data": {
      "text/plain": [
       "0"
      ]
     },
     "execution_count": 32,
     "metadata": {},
     "output_type": "execute_result"
    }
   ],
   "source": [
    "bad_location_mask = ~np.isin(synthpop_sampled[zone_cols].values, gis)\n",
    "synthpop_sampled[zone_cols].values[bad_location_mask]\n",
    "bad_location_mask.sum()"
   ]
  },
  {
   "cell_type": "markdown",
   "id": "86d41b8d",
   "metadata": {},
   "source": [
    "<a id='export'></a>\n",
    "# Export\n",
    "* [back to summary](#summary)"
   ]
  },
  {
   "cell_type": "code",
   "execution_count": 33,
   "id": "9d50dd93",
   "metadata": {},
   "outputs": [
    {
     "name": "stdout",
     "output_type": "stream",
     "text": [
      "2023-12-03 22:55:01.591496\n",
      "/Users/benoit/Desktop/Pro/210526-fusion/outdata/synthpop/synthpop_statmatch_rescaleipu_spatializev9h6.csv\n"
     ]
    },
    {
     "data": {
      "text/html": [
       "<div>\n",
       "<style scoped>\n",
       "    .dataframe tbody tr th:only-of-type {\n",
       "        vertical-align: middle;\n",
       "    }\n",
       "\n",
       "    .dataframe tbody tr th {\n",
       "        vertical-align: top;\n",
       "    }\n",
       "\n",
       "    .dataframe thead th {\n",
       "        text-align: right;\n",
       "    }\n",
       "</style>\n",
       "<table border=\"1\" class=\"dataframe\">\n",
       "  <thead>\n",
       "    <tr style=\"text-align: right;\">\n",
       "      <th></th>\n",
       "      <th>iris_or_commune</th>\n",
       "      <th>gender</th>\n",
       "      <th>has_car</th>\n",
       "      <th>occupation</th>\n",
       "      <th>age</th>\n",
       "      <th>home_status</th>\n",
       "      <th>main_transport_work</th>\n",
       "      <th>id_agenda</th>\n",
       "      <th>dep_0_motif</th>\n",
       "      <th>outsider</th>\n",
       "      <th>...</th>\n",
       "      <th>dep_1_zone</th>\n",
       "      <th>dep_2_zone</th>\n",
       "      <th>dep_3_zone</th>\n",
       "      <th>dep_4_zone</th>\n",
       "      <th>dep_5_zone</th>\n",
       "      <th>dep_6_zone</th>\n",
       "      <th>dep_7_zone</th>\n",
       "      <th>dep_8_zone</th>\n",
       "      <th>dep_9_zone</th>\n",
       "      <th>dep_10_zone</th>\n",
       "    </tr>\n",
       "  </thead>\n",
       "  <tbody>\n",
       "    <tr>\n",
       "      <th>0</th>\n",
       "      <td>690270102</td>\n",
       "      <td>0</td>\n",
       "      <td>1</td>\n",
       "      <td>8</td>\n",
       "      <td>3</td>\n",
       "      <td>0</td>\n",
       "      <td>-1</td>\n",
       "      <td>1320021221</td>\n",
       "      <td>0.0</td>\n",
       "      <td>0.0</td>\n",
       "      <td>...</td>\n",
       "      <td>693820501.0</td>\n",
       "      <td>690270102.0</td>\n",
       "      <td>690270103.0</td>\n",
       "      <td>69268.0</td>\n",
       "      <td>690270102.0</td>\n",
       "      <td>0.0</td>\n",
       "      <td>0.0</td>\n",
       "      <td>0.0</td>\n",
       "      <td>0.0</td>\n",
       "      <td>0.0</td>\n",
       "    </tr>\n",
       "    <tr>\n",
       "      <th>1</th>\n",
       "      <td>69288</td>\n",
       "      <td>0</td>\n",
       "      <td>1</td>\n",
       "      <td>6</td>\n",
       "      <td>1</td>\n",
       "      <td>0</td>\n",
       "      <td>2</td>\n",
       "      <td>1320021221</td>\n",
       "      <td>0.0</td>\n",
       "      <td>0.0</td>\n",
       "      <td>...</td>\n",
       "      <td>692900101.0</td>\n",
       "      <td>69288.0</td>\n",
       "      <td>692870102.0</td>\n",
       "      <td>381840000.0</td>\n",
       "      <td>69288.0</td>\n",
       "      <td>0.0</td>\n",
       "      <td>0.0</td>\n",
       "      <td>0.0</td>\n",
       "      <td>0.0</td>\n",
       "      <td>0.0</td>\n",
       "    </tr>\n",
       "    <tr>\n",
       "      <th>2</th>\n",
       "      <td>69298</td>\n",
       "      <td>0</td>\n",
       "      <td>1</td>\n",
       "      <td>6</td>\n",
       "      <td>2</td>\n",
       "      <td>0</td>\n",
       "      <td>5</td>\n",
       "      <td>1320021221</td>\n",
       "      <td>0.0</td>\n",
       "      <td>0.0</td>\n",
       "      <td>...</td>\n",
       "      <td>692900701.0</td>\n",
       "      <td>69298.0</td>\n",
       "      <td>692830102.0</td>\n",
       "      <td>692830104.0</td>\n",
       "      <td>69298.0</td>\n",
       "      <td>0.0</td>\n",
       "      <td>0.0</td>\n",
       "      <td>0.0</td>\n",
       "      <td>0.0</td>\n",
       "      <td>0.0</td>\n",
       "    </tr>\n",
       "    <tr>\n",
       "      <th>3</th>\n",
       "      <td>692661301</td>\n",
       "      <td>0</td>\n",
       "      <td>1</td>\n",
       "      <td>7</td>\n",
       "      <td>0</td>\n",
       "      <td>0</td>\n",
       "      <td>-1</td>\n",
       "      <td>1320021221</td>\n",
       "      <td>0.0</td>\n",
       "      <td>0.0</td>\n",
       "      <td>...</td>\n",
       "      <td>690810105.0</td>\n",
       "      <td>692661301.0</td>\n",
       "      <td>692661501.0</td>\n",
       "      <td>690290101.0</td>\n",
       "      <td>692661301.0</td>\n",
       "      <td>0.0</td>\n",
       "      <td>0.0</td>\n",
       "      <td>0.0</td>\n",
       "      <td>0.0</td>\n",
       "      <td>0.0</td>\n",
       "    </tr>\n",
       "    <tr>\n",
       "      <th>4</th>\n",
       "      <td>690890301</td>\n",
       "      <td>0</td>\n",
       "      <td>1</td>\n",
       "      <td>5</td>\n",
       "      <td>2</td>\n",
       "      <td>0</td>\n",
       "      <td>-1</td>\n",
       "      <td>1320021221</td>\n",
       "      <td>0.0</td>\n",
       "      <td>0.0</td>\n",
       "      <td>...</td>\n",
       "      <td>692040202.0</td>\n",
       "      <td>690890301.0</td>\n",
       "      <td>692440201.0</td>\n",
       "      <td>692440102.0</td>\n",
       "      <td>690890301.0</td>\n",
       "      <td>0.0</td>\n",
       "      <td>0.0</td>\n",
       "      <td>0.0</td>\n",
       "      <td>0.0</td>\n",
       "      <td>0.0</td>\n",
       "    </tr>\n",
       "  </tbody>\n",
       "</table>\n",
       "<p>5 rows × 91 columns</p>\n",
       "</div>"
      ],
      "text/plain": [
       "   iris_or_commune  gender  has_car  occupation  age  home_status   \n",
       "0        690270102       0        1           8    3            0  \\\n",
       "1            69288       0        1           6    1            0   \n",
       "2            69298       0        1           6    2            0   \n",
       "3        692661301       0        1           7    0            0   \n",
       "4        690890301       0        1           5    2            0   \n",
       "\n",
       "   main_transport_work   id_agenda  dep_0_motif  outsider  ...   dep_1_zone   \n",
       "0                   -1  1320021221          0.0       0.0  ...  693820501.0  \\\n",
       "1                    2  1320021221          0.0       0.0  ...  692900101.0   \n",
       "2                    5  1320021221          0.0       0.0  ...  692900701.0   \n",
       "3                   -1  1320021221          0.0       0.0  ...  690810105.0   \n",
       "4                   -1  1320021221          0.0       0.0  ...  692040202.0   \n",
       "\n",
       "    dep_2_zone   dep_3_zone   dep_4_zone   dep_5_zone  dep_6_zone  dep_7_zone   \n",
       "0  690270102.0  690270103.0      69268.0  690270102.0         0.0         0.0  \\\n",
       "1      69288.0  692870102.0  381840000.0      69288.0         0.0         0.0   \n",
       "2      69298.0  692830102.0  692830104.0      69298.0         0.0         0.0   \n",
       "3  692661301.0  692661501.0  690290101.0  692661301.0         0.0         0.0   \n",
       "4  690890301.0  692440201.0  692440102.0  690890301.0         0.0         0.0   \n",
       "\n",
       "   dep_8_zone  dep_9_zone  dep_10_zone  \n",
       "0         0.0         0.0          0.0  \n",
       "1         0.0         0.0          0.0  \n",
       "2         0.0         0.0          0.0  \n",
       "3         0.0         0.0          0.0  \n",
       "4         0.0         0.0          0.0  \n",
       "\n",
       "[5 rows x 91 columns]"
      ]
     },
     "execution_count": 33,
     "metadata": {},
     "output_type": "execute_result"
    }
   ],
   "source": [
    "outpath = synthpop_path[:-4] + '_spatializev9h6.csv'\n",
    "synthpop_sampled.to_csv(outpath, index=False)\n",
    "\n",
    "print(datetime.datetime.now())\n",
    "print(outpath)\n",
    "synthpop_sampled.head()"
   ]
  },
  {
   "cell_type": "markdown",
   "id": "be267a92",
   "metadata": {},
   "source": [
    "# Viz"
   ]
  },
  {
   "cell_type": "code",
   "execution_count": 36,
   "id": "1b1027ff",
   "metadata": {},
   "outputs": [
    {
     "data": {
      "text/plain": [
       "array([   0,  200,  500, 1000, 3000, 5000, 7000, 9000])"
      ]
     },
     "execution_count": 36,
     "metadata": {},
     "output_type": "execute_result"
    }
   ],
   "source": [
    "distbins"
   ]
  },
  {
   "cell_type": "markdown",
   "id": "ee0f7d82",
   "metadata": {},
   "source": [
    "## Distance distrib from HTS distbin"
   ]
  },
  {
   "cell_type": "code",
   "execution_count": 38,
   "id": "e2a2017f",
   "metadata": {},
   "outputs": [
    {
     "data": {
      "text/plain": [
       "array([ 73127., 324797., 633053., 844441., 459155., 295600., 185640.,\n",
       "       293600.])"
      ]
     },
     "execution_count": 38,
     "metadata": {},
     "output_type": "execute_result"
    }
   ],
   "source": [
    "Y_distbins = np.zeros(len(distbins))\n",
    "\n",
    "for d in range(len(Y_distbins)):\n",
    "    for i in range(1, max_chain_len+1):\n",
    "        Y_distbins[d] += (synthpop_sampled['dep_{}_distbin'.format(i)]==d).sum()\n",
    "\n",
    "Y_distbins"
   ]
  },
  {
   "cell_type": "code",
   "execution_count": null,
   "id": "8dde9328",
   "metadata": {},
   "outputs": [],
   "source": [
    "print('pouet')"
   ]
  }
 ],
 "metadata": {
  "kernelspec": {
   "display_name": "Python 3 (ipykernel)",
   "language": "python",
   "name": "python3"
  },
  "language_info": {
   "codemirror_mode": {
    "name": "ipython",
    "version": 3
   },
   "file_extension": ".py",
   "mimetype": "text/x-python",
   "name": "python",
   "nbconvert_exporter": "python",
   "pygments_lexer": "ipython3",
   "version": "3.9.5"
  }
 },
 "nbformat": 4,
 "nbformat_minor": 5
}
